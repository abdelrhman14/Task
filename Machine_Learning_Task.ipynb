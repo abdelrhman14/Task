{
 "cells": [
  {
   "cell_type": "markdown",
   "metadata": {
    "id": "bWsU_GBHjyWO"
   },
   "source": [
    "# Machine Learning Task : Predicts The Dialect Given The Text"
   ]
  },
  {
   "cell_type": "markdown",
   "metadata": {
    "id": "i78pTC2Ulcxo"
   },
   "source": [
    "> Data Pre-processing steps :\n",
    "\n",
    "1. Importing The Libraries\n",
    "2. Importing The Dataset\n",
    "3. Missing Data\n",
    "4. Clean The Data\n",
    "\n",
    "  *   Remove Stopwords\n",
    "  *   Remove Punctuations\n",
    "  *   Removing URLs\n",
    "  *   Removing Stop words\n",
    "  *   Remove White spaces\n",
    "  *   Removal of emojis\n",
    "  *   Removal of HTML tags\n",
    "  *   Most Common Words\n",
    "  *   Removal of Frequent words\n",
    "\n",
    "5. Encoding categorical data\n",
    "6. Vectorizer [ TF / IDF ]\n",
    "7. Splitting the dataset into the Training set and Test set\n",
    "\n",
    "> There are some other pre-processing steps that will not be used that we will talk about in documentation the article and why they were not used in the task"
   ]
  },
  {
   "cell_type": "markdown",
   "metadata": {
    "id": "PK8Ryt65r0kV"
   },
   "source": [
    "> The Algorithms used in the Project : -\n",
    "\n",
    "\n",
    "    1. Support Vector Machine [ SVM ]\n",
    "    2. Naive Bayes\n",
    "\n",
    "> Then we will compare them in terms of the highest efficiency we will talk about in documentation"
   ]
  },
  {
   "cell_type": "markdown",
   "metadata": {
    "id": "pi_5ILdDsWHy"
   },
   "source": [
    "> Evaluation Classification Methods Performance : - [ Metrics Model ]\n",
    "\n",
    "\n",
    "1.   Confusion Matrix\n",
    "2.   Classification Report\n",
    "     * Recall \n",
    "     * Precision    \n",
    "     * F1_Score\n"
   ]
  },
  {
   "cell_type": "markdown",
   "metadata": {
    "id": "qqZfrMhXs2fe"
   },
   "source": [
    "> Importing The Libraries"
   ]
  },
  {
   "cell_type": "code",
   "execution_count": 11,
   "metadata": {
    "colab": {
     "base_uri": "https://localhost:8080/"
    },
    "id": "rdFq0DeQqMG5",
    "outputId": "fac95ec9-9ade-4b4b-ba9d-ee9f0d5c4bbf"
   },
   "outputs": [
    {
     "name": "stdout",
     "output_type": "stream",
     "text": [
      "Requirement already satisfied: PyArabic in /usr/local/lib/python3.7/dist-packages (0.6.14)\n",
      "Requirement already satisfied: six>=1.14.0 in /usr/local/lib/python3.7/dist-packages (from PyArabic) (1.15.0)\n",
      "Requirement already satisfied: emoji in /usr/local/lib/python3.7/dist-packages (1.7.0)\n",
      "Requirement already satisfied: Arabic_Stopwords in /usr/local/lib/python3.7/dist-packages (0.3)\n",
      "Requirement already satisfied: pyarabic>=0.6.2 in /usr/local/lib/python3.7/dist-packages (from Arabic_Stopwords) (0.6.14)\n",
      "Requirement already satisfied: six>=1.14.0 in /usr/local/lib/python3.7/dist-packages (from pyarabic>=0.6.2->Arabic_Stopwords) (1.15.0)\n"
     ]
    }
   ],
   "source": [
    "! pip install PyArabic\n",
    "! pip install emoji\n",
    "! pip install Arabic_Stopwords\n"
   ]
  },
  {
   "cell_type": "code",
   "execution_count": 12,
   "metadata": {
    "colab": {
     "base_uri": "https://localhost:8080/"
    },
    "id": "6ObxL4k4T3Ct",
    "outputId": "e73b4d8c-b88a-44b3-99c5-3538215c5155"
   },
   "outputs": [
    {
     "name": "stdout",
     "output_type": "stream",
     "text": [
      "[nltk_data] Downloading package punkt to /root/nltk_data...\n",
      "[nltk_data]   Package punkt is already up-to-date!\n"
     ]
    }
   ],
   "source": [
    "import requests\n",
    "import json\n",
    "\n",
    "import re\n",
    "import nltk , re, string, random\n",
    "import emoji\n",
    "from nltk.tokenize import word_tokenize\n",
    "from bs4 import BeautifulSoup\n",
    "import nltk\n",
    "nltk.download('punkt')\n",
    "\n",
    "from nltk import FreqDist, classify, NaiveBayesClassifier,DecisionTreeClassifier \n",
    "import pandas as pd\n",
    "import numpy as np\n",
    "import seaborn as sns\n",
    "import missingno as msno\n",
    "from collections import Counter\n",
    "import matplotlib.pyplot as plt\n",
    "import arabicstopwords.arabicstopwords as stp\n",
    "from nltk.tokenize.treebank import TreebankWordDetokenizer\n",
    "from pyarabic.araby import tokenize, is_arabicrange, strip_tashkeel, normalize_hamza, strip_tatweel\n",
    "\n",
    "from sklearn.feature_extraction.text import CountVectorizer\n",
    "from sklearn.feature_extraction.text import TfidfTransformer\n",
    "from sklearn.pipeline import Pipeline\n",
    "\n",
    "from sklearn.preprocessing import LabelEncoder\n",
    "from sklearn.feature_extraction.text import TfidfVectorizer\n",
    "from sklearn.model_selection import train_test_split\n",
    "\n",
    "\n",
    "from sklearn.metrics import accuracy_score\n",
    "from sklearn.metrics import confusion_matrix\n",
    "from sklearn.metrics import classification_report\n",
    "\n",
    "import pickle\n",
    "from sklearn.datasets import load_files"
   ]
  },
  {
   "cell_type": "code",
   "execution_count": 13,
   "metadata": {
    "colab": {
     "base_uri": "https://localhost:8080/"
    },
    "id": "0vNmCJ9e1TuT",
    "outputId": "6509b8c2-a33f-405d-feac-55258642996f"
   },
   "outputs": [
    {
     "name": "stdout",
     "output_type": "stream",
     "text": [
      "Drive already mounted at /content/gdrive; to attempt to forcibly remount, call drive.mount(\"/content/gdrive\", force_remount=True).\n"
     ]
    }
   ],
   "source": [
    "from google.colab import drive\n",
    "drive.mount('/content/gdrive')"
   ]
  },
  {
   "cell_type": "code",
   "execution_count": 14,
   "metadata": {
    "id": "okYN3iGO1UPC"
   },
   "outputs": [],
   "source": [
    "URL = \"https://recruitment.aimtechnologies.co/ai-tasks\"\n",
    "file_name = 'C://Users//Abdo//Desktop//Task//dialect_dataset.csv'\n",
    "chunksize = 1000"
   ]
  },
  {
   "cell_type": "code",
   "execution_count": 15,
   "metadata": {
    "colab": {
     "base_uri": "https://localhost:8080/"
    },
    "id": "mXU0RiTYsgdW",
    "outputId": "ae5c1ca8-2ad3-4c21-bc5e-9252e1d1044d"
   },
   "outputs": [
    {
     "name": "stdout",
     "output_type": "stream",
     "text": [
      "You are in number 1 batch \n",
      "You are in number 2 batch \n",
      "You are in number 3 batch \n",
      "You are in number 4 batch \n",
      "You are in number 5 batch \n",
      "You are in number 6 batch \n",
      "You are in number 7 batch \n",
      "You are in number 8 batch \n",
      "You are in number 9 batch \n",
      "You are in number 10 batch \n",
      "You are in number 11 batch \n",
      "You are in number 12 batch \n",
      "You are in number 13 batch \n",
      "You are in number 14 batch \n",
      "You are in number 15 batch \n",
      "You are in number 16 batch \n",
      "You are in number 17 batch \n",
      "You are in number 18 batch \n",
      "You are in number 19 batch \n",
      "You are in number 20 batch \n",
      "You are in number 21 batch \n",
      "You are in number 22 batch \n",
      "You are in number 23 batch \n",
      "You are in number 24 batch \n",
      "You are in number 25 batch \n",
      "You are in number 26 batch \n",
      "You are in number 27 batch \n",
      "You are in number 28 batch \n",
      "You are in number 29 batch \n",
      "You are in number 30 batch \n",
      "You are in number 31 batch \n",
      "You are in number 32 batch \n",
      "You are in number 33 batch \n",
      "You are in number 34 batch \n",
      "You are in number 35 batch \n",
      "You are in number 36 batch \n",
      "You are in number 37 batch \n",
      "You are in number 38 batch \n",
      "You are in number 39 batch \n",
      "You are in number 40 batch \n",
      "You are in number 41 batch \n",
      "You are in number 42 batch \n",
      "You are in number 43 batch \n",
      "You are in number 44 batch \n",
      "You are in number 45 batch \n",
      "You are in number 46 batch \n",
      "You are in number 47 batch \n",
      "You are in number 48 batch \n",
      "You are in number 49 batch \n",
      "You are in number 50 batch \n",
      "You are in number 51 batch \n",
      "You are in number 52 batch \n",
      "You are in number 53 batch \n",
      "You are in number 54 batch \n",
      "You are in number 55 batch \n",
      "You are in number 56 batch \n",
      "You are in number 57 batch \n",
      "You are in number 58 batch \n",
      "You are in number 59 batch \n",
      "You are in number 60 batch \n",
      "You are in number 61 batch \n",
      "You are in number 62 batch \n",
      "You are in number 63 batch \n",
      "You are in number 64 batch \n",
      "You are in number 65 batch \n",
      "You are in number 66 batch \n",
      "You are in number 67 batch \n",
      "You are in number 68 batch \n",
      "You are in number 69 batch \n",
      "You are in number 70 batch \n",
      "You are in number 71 batch \n",
      "You are in number 72 batch \n",
      "You are in number 73 batch \n",
      "You are in number 74 batch \n",
      "You are in number 75 batch \n",
      "You are in number 76 batch \n",
      "You are in number 77 batch \n",
      "You are in number 78 batch \n",
      "You are in number 79 batch \n",
      "You are in number 80 batch \n",
      "You are in number 81 batch \n",
      "You are in number 82 batch \n",
      "You are in number 83 batch \n",
      "You are in number 84 batch \n",
      "You are in number 85 batch \n",
      "You are in number 86 batch \n",
      "You are in number 87 batch \n",
      "You are in number 88 batch \n",
      "You are in number 89 batch \n",
      "You are in number 90 batch \n",
      "You are in number 91 batch \n",
      "You are in number 92 batch \n",
      "You are in number 93 batch \n",
      "You are in number 94 batch \n",
      "You are in number 95 batch \n",
      "You are in number 96 batch \n",
      "You are in number 97 batch \n",
      "You are in number 98 batch \n",
      "You are in number 99 batch \n",
      "You are in number 100 batch \n",
      "You are in number 101 batch \n",
      "You are in number 102 batch \n",
      "You are in number 103 batch \n",
      "You are in number 104 batch \n",
      "You are in number 105 batch \n",
      "You are in number 106 batch \n",
      "You are in number 107 batch \n",
      "You are in number 108 batch \n",
      "You are in number 109 batch \n",
      "You are in number 110 batch \n",
      "You are in number 111 batch \n",
      "You are in number 112 batch \n",
      "You are in number 113 batch \n",
      "You are in number 114 batch \n",
      "You are in number 115 batch \n",
      "You are in number 116 batch \n",
      "You are in number 117 batch \n",
      "You are in number 118 batch \n",
      "You are in number 119 batch \n",
      "You are in number 120 batch \n",
      "You are in number 121 batch \n",
      "You are in number 122 batch \n",
      "You are in number 123 batch \n",
      "You are in number 124 batch \n",
      "You are in number 125 batch \n",
      "You are in number 126 batch \n",
      "You are in number 127 batch \n",
      "You are in number 128 batch \n",
      "You are in number 129 batch \n",
      "You are in number 130 batch \n",
      "You are in number 131 batch \n",
      "You are in number 132 batch \n",
      "You are in number 133 batch \n",
      "You are in number 134 batch \n",
      "You are in number 135 batch \n",
      "You are in number 136 batch \n",
      "You are in number 137 batch \n",
      "You are in number 138 batch \n",
      "You are in number 139 batch \n",
      "You are in number 140 batch \n",
      "You are in number 141 batch \n",
      "You are in number 142 batch \n",
      "You are in number 143 batch \n",
      "You are in number 144 batch \n",
      "You are in number 145 batch \n",
      "You are in number 146 batch \n",
      "You are in number 147 batch \n",
      "You are in number 148 batch \n",
      "You are in number 149 batch \n",
      "You are in number 150 batch \n",
      "You are in number 151 batch \n",
      "You are in number 152 batch \n",
      "You are in number 153 batch \n",
      "You are in number 154 batch \n",
      "You are in number 155 batch \n",
      "You are in number 156 batch \n",
      "You are in number 157 batch \n",
      "You are in number 158 batch \n",
      "You are in number 159 batch \n",
      "You are in number 160 batch \n",
      "You are in number 161 batch \n",
      "You are in number 162 batch \n",
      "You are in number 163 batch \n",
      "You are in number 164 batch \n",
      "You are in number 165 batch \n",
      "You are in number 166 batch \n",
      "You are in number 167 batch \n",
      "You are in number 168 batch \n",
      "You are in number 169 batch \n",
      "You are in number 170 batch \n",
      "You are in number 171 batch \n",
      "You are in number 172 batch \n",
      "You are in number 173 batch \n",
      "You are in number 174 batch \n",
      "You are in number 175 batch \n",
      "You are in number 176 batch \n",
      "You are in number 177 batch \n",
      "You are in number 178 batch \n",
      "You are in number 179 batch \n",
      "You are in number 180 batch \n",
      "You are in number 181 batch \n",
      "You are in number 182 batch \n",
      "You are in number 183 batch \n",
      "You are in number 184 batch \n",
      "You are in number 185 batch \n",
      "You are in number 186 batch \n",
      "You are in number 187 batch \n",
      "You are in number 188 batch \n",
      "You are in number 189 batch \n",
      "You are in number 190 batch \n",
      "You are in number 191 batch \n",
      "You are in number 192 batch \n",
      "You are in number 193 batch \n",
      "You are in number 194 batch \n",
      "You are in number 195 batch \n",
      "You are in number 196 batch \n",
      "You are in number 197 batch \n",
      "You are in number 198 batch \n",
      "You are in number 199 batch \n",
      "You are in number 200 batch \n",
      "You are in number 201 batch \n",
      "You are in number 202 batch \n",
      "You are in number 203 batch \n",
      "You are in number 204 batch \n",
      "You are in number 205 batch \n",
      "You are in number 206 batch \n",
      "You are in number 207 batch \n",
      "You are in number 208 batch \n",
      "You are in number 209 batch \n",
      "You are in number 210 batch \n",
      "You are in number 211 batch \n",
      "You are in number 212 batch \n",
      "You are in number 213 batch \n",
      "You are in number 214 batch \n",
      "You are in number 215 batch \n",
      "You are in number 216 batch \n",
      "You are in number 217 batch \n",
      "You are in number 218 batch \n",
      "You are in number 219 batch \n",
      "You are in number 220 batch \n",
      "You are in number 221 batch \n",
      "You are in number 222 batch \n",
      "You are in number 223 batch \n",
      "You are in number 224 batch \n",
      "You are in number 225 batch \n",
      "You are in number 226 batch \n",
      "You are in number 227 batch \n",
      "You are in number 228 batch \n",
      "You are in number 229 batch \n",
      "You are in number 230 batch \n",
      "You are in number 231 batch \n",
      "You are in number 232 batch \n",
      "You are in number 233 batch \n",
      "You are in number 234 batch \n",
      "You are in number 235 batch \n",
      "You are in number 236 batch \n",
      "You are in number 237 batch \n",
      "You are in number 238 batch \n",
      "You are in number 239 batch \n",
      "You are in number 240 batch \n",
      "You are in number 241 batch \n",
      "You are in number 242 batch \n",
      "You are in number 243 batch \n",
      "You are in number 244 batch \n",
      "You are in number 245 batch \n",
      "You are in number 246 batch \n",
      "You are in number 247 batch \n",
      "You are in number 248 batch \n",
      "You are in number 249 batch \n",
      "You are in number 250 batch \n",
      "You are in number 251 batch \n",
      "You are in number 252 batch \n",
      "You are in number 253 batch \n",
      "You are in number 254 batch \n",
      "You are in number 255 batch \n",
      "You are in number 256 batch \n",
      "You are in number 257 batch \n",
      "You are in number 258 batch \n",
      "You are in number 259 batch \n",
      "You are in number 260 batch \n",
      "You are in number 261 batch \n",
      "You are in number 262 batch \n",
      "You are in number 263 batch \n",
      "You are in number 264 batch \n",
      "You are in number 265 batch \n",
      "You are in number 266 batch \n",
      "You are in number 267 batch \n",
      "You are in number 268 batch \n",
      "You are in number 269 batch \n",
      "You are in number 270 batch \n",
      "You are in number 271 batch \n",
      "You are in number 272 batch \n",
      "You are in number 273 batch \n",
      "You are in number 274 batch \n",
      "You are in number 275 batch \n",
      "You are in number 276 batch \n",
      "You are in number 277 batch \n",
      "You are in number 278 batch \n",
      "You are in number 279 batch \n",
      "You are in number 280 batch \n",
      "You are in number 281 batch \n",
      "You are in number 282 batch \n",
      "You are in number 283 batch \n",
      "You are in number 284 batch \n",
      "You are in number 285 batch \n",
      "You are in number 286 batch \n",
      "You are in number 287 batch \n",
      "You are in number 288 batch \n",
      "You are in number 289 batch \n",
      "You are in number 290 batch \n",
      "You are in number 291 batch \n",
      "You are in number 292 batch \n",
      "You are in number 293 batch \n",
      "You are in number 294 batch \n",
      "You are in number 295 batch \n",
      "You are in number 296 batch \n",
      "You are in number 297 batch \n",
      "You are in number 298 batch \n",
      "You are in number 299 batch \n",
      "You are in number 300 batch \n",
      "You are in number 301 batch \n",
      "You are in number 302 batch \n",
      "You are in number 303 batch \n",
      "You are in number 304 batch \n",
      "You are in number 305 batch \n",
      "You are in number 306 batch \n",
      "You are in number 307 batch \n",
      "You are in number 308 batch \n",
      "You are in number 309 batch \n",
      "You are in number 310 batch \n",
      "You are in number 311 batch \n",
      "You are in number 312 batch \n",
      "You are in number 313 batch \n",
      "You are in number 314 batch \n",
      "You are in number 315 batch \n",
      "You are in number 316 batch \n",
      "You are in number 317 batch \n",
      "You are in number 318 batch \n",
      "You are in number 319 batch \n",
      "You are in number 320 batch \n",
      "You are in number 321 batch \n",
      "You are in number 322 batch \n",
      "You are in number 323 batch \n",
      "You are in number 324 batch \n",
      "You are in number 325 batch \n",
      "You are in number 326 batch \n",
      "You are in number 327 batch \n",
      "You are in number 328 batch \n",
      "You are in number 329 batch \n",
      "You are in number 330 batch \n",
      "You are in number 331 batch \n",
      "You are in number 332 batch \n",
      "You are in number 333 batch \n",
      "You are in number 334 batch \n",
      "You are in number 335 batch \n",
      "You are in number 336 batch \n",
      "You are in number 337 batch \n",
      "You are in number 338 batch \n",
      "You are in number 339 batch \n",
      "You are in number 340 batch \n",
      "You are in number 341 batch \n",
      "You are in number 342 batch \n",
      "You are in number 343 batch \n",
      "You are in number 344 batch \n",
      "You are in number 345 batch \n",
      "You are in number 346 batch \n",
      "You are in number 347 batch \n",
      "You are in number 348 batch \n",
      "You are in number 349 batch \n",
      "You are in number 350 batch \n",
      "You are in number 351 batch \n",
      "You are in number 352 batch \n",
      "You are in number 353 batch \n",
      "You are in number 354 batch \n",
      "You are in number 355 batch \n",
      "You are in number 356 batch \n",
      "You are in number 357 batch \n",
      "You are in number 358 batch \n",
      "You are in number 359 batch \n",
      "You are in number 360 batch \n",
      "You are in number 361 batch \n",
      "You are in number 362 batch \n",
      "You are in number 363 batch \n",
      "You are in number 364 batch \n",
      "You are in number 365 batch \n",
      "You are in number 366 batch \n",
      "You are in number 367 batch \n",
      "You are in number 368 batch \n",
      "You are in number 369 batch \n",
      "You are in number 370 batch \n",
      "You are in number 371 batch \n",
      "You are in number 372 batch \n",
      "You are in number 373 batch \n",
      "You are in number 374 batch \n",
      "You are in number 375 batch \n",
      "You are in number 376 batch \n",
      "You are in number 377 batch \n",
      "You are in number 378 batch \n",
      "You are in number 379 batch \n",
      "You are in number 380 batch \n",
      "You are in number 381 batch \n",
      "You are in number 382 batch \n",
      "You are in number 383 batch \n",
      "You are in number 384 batch \n",
      "You are in number 385 batch \n",
      "You are in number 386 batch \n",
      "You are in number 387 batch \n",
      "You are in number 388 batch \n",
      "You are in number 389 batch \n",
      "You are in number 390 batch \n",
      "You are in number 391 batch \n",
      "You are in number 392 batch \n",
      "You are in number 393 batch \n",
      "You are in number 394 batch \n",
      "You are in number 395 batch \n",
      "You are in number 396 batch \n",
      "You are in number 397 batch \n",
      "You are in number 398 batch \n",
      "You are in number 399 batch \n",
      "You are in number 400 batch \n",
      "You are in number 401 batch \n",
      "You are in number 402 batch \n",
      "You are in number 403 batch \n",
      "You are in number 404 batch \n",
      "You are in number 405 batch \n",
      "You are in number 406 batch \n",
      "You are in number 407 batch \n",
      "You are in number 408 batch \n",
      "You are in number 409 batch \n",
      "You are in number 410 batch \n",
      "You are in number 411 batch \n",
      "You are in number 412 batch \n",
      "You are in number 413 batch \n",
      "You are in number 414 batch \n",
      "You are in number 415 batch \n",
      "You are in number 416 batch \n",
      "You are in number 417 batch \n",
      "You are in number 418 batch \n",
      "You are in number 419 batch \n",
      "You are in number 420 batch \n",
      "You are in number 421 batch \n",
      "You are in number 422 batch \n",
      "You are in number 423 batch \n",
      "You are in number 424 batch \n",
      "You are in number 425 batch \n",
      "You are in number 426 batch \n",
      "You are in number 427 batch \n",
      "You are in number 428 batch \n",
      "You are in number 429 batch \n",
      "You are in number 430 batch \n",
      "You are in number 431 batch \n",
      "You are in number 432 batch \n",
      "You are in number 433 batch \n",
      "You are in number 434 batch \n",
      "You are in number 435 batch \n",
      "You are in number 436 batch \n",
      "You are in number 437 batch \n",
      "You are in number 438 batch \n",
      "You are in number 439 batch \n",
      "You are in number 440 batch \n",
      "You are in number 441 batch \n",
      "You are in number 442 batch \n",
      "You are in number 443 batch \n",
      "You are in number 444 batch \n",
      "You are in number 445 batch \n",
      "You are in number 446 batch \n",
      "You are in number 447 batch \n",
      "You are in number 448 batch \n",
      "You are in number 449 batch \n",
      "You are in number 450 batch \n",
      "You are in number 451 batch \n",
      "You are in number 452 batch \n",
      "You are in number 453 batch \n",
      "You are in number 454 batch \n",
      "You are in number 455 batch \n",
      "You are in number 456 batch \n",
      "You are in number 457 batch \n",
      "You are in number 458 batch \n",
      "You are in number 459 batch \n"
     ]
    }
   ],
   "source": [
    "def get_response(file_name, chunksize):\n",
    "    COUNT=1\n",
    "    Final_df = pd.DataFrame(columns=['id','text','dialect'], dtype=object)\n",
    "    for chunk in pd.read_csv(file_name, chunksize=chunksize, dtype={\"id\":\"str\"}):\n",
    "        print(f'You are in number {COUNT} batch ')\n",
    "        \n",
    "        # defining a params dict for the parameters to be sent to the API\n",
    "        data_ids = json.dumps(list(chunk['id']))\n",
    "\n",
    "        # sending get request and saving the response as response object\n",
    "        response = requests.post(URL,data=data_ids)\n",
    "\n",
    "        # extracting data in json format\n",
    "        data_json = response.json()\n",
    "\n",
    "        # convert to data frame to continue pre-processing\n",
    "        df = pd.DataFrame(data_json.items(),columns=['id','text'])\n",
    "        \n",
    "        # merging the respons dataframe with the orignal dataframe\n",
    "        merged_inner = pd.merge(left=df, right=chunk, left_on='id', right_on='id')\n",
    "        \n",
    "        Final_df = pd.concat([Final_df,merged_inner])\n",
    "        \n",
    "        COUNT+=1\n",
    "\n",
    "                    \n",
    "    return Final_df\n",
    "    \n",
    "df = get_response(file_name, chunksize)"
   ]
  },
  {
   "cell_type": "markdown",
   "metadata": {
    "id": "4Nif_nQ5s5MP"
   },
   "source": [
    "> Importing The Dataset"
   ]
  },
  {
   "cell_type": "code",
   "execution_count": 16,
   "metadata": {
    "colab": {
     "base_uri": "https://localhost:8080/"
    },
    "id": "ozEslRPMVAAn",
    "outputId": "8f10b03b-e785-4492-98c6-cadeba75b247"
   },
   "outputs": [
    {
     "name": "stdout",
     "output_type": "stream",
     "text": [
      "Dataset:                      id                                               text  \\\n",
      "0  1175358310087892992   @Nw8ieJUwaCAAreT لكن بالنهاية .. ينتفض .. يغير .   \n",
      "1  1175416117793349632  @7zNqXP0yrODdRjK يعني هذا محسوب على البشر .. ح...   \n",
      "2  1175450108898565888                    @KanaanRema مبين من كلامه خليجي   \n",
      "3  1175471073770573824         @HAIDER76128900 يسلملي مرورك وروحك الحلوه💐   \n",
      "4  1175496913145217024                 @hmo2406 وين هل الغيبه  اخ محمد 🌸🌺   \n",
      "5  1175668034146643968  @Badi9595 @KanaanRema يااخي الإرهابي اذا كان ع...   \n",
      "6  1175670153884983296  @SarahNadhum90 @nUBNTdfVgACYQxV مطلبي يقدم است...   \n",
      "7  1175671762580856832  @KanaanRema @Badi9595 خلص والله لعيونكم انا ما...   \n",
      "8  1175715664398561280  @SalahAlarbawi يمكن سؤال فات الكثير اللي يصور ...   \n",
      "9  1176019816072777728  @Eng_alow91 @cb4LwpWrS1hT5lb @EdyCohen اولا ان...   \n",
      "\n",
      "  dialect  \n",
      "0      IQ  \n",
      "1      IQ  \n",
      "2      IQ  \n",
      "3      IQ  \n",
      "4      IQ  \n",
      "5      IQ  \n",
      "6      IQ  \n",
      "7      IQ  \n",
      "8      IQ  \n",
      "9      IQ  \n",
      "*******************************************************\n",
      "Dataset Shape:  (458197, 3)\n",
      "*******************************************************\n",
      "Index(['id', 'text', 'dialect'], dtype='object')\n",
      "*******************************************************\n"
     ]
    }
   ],
   "source": [
    "print('Dataset: ',df.head(10))\n",
    "print('*******************************************************')\n",
    "print('Dataset Shape: ',df.shape)\n",
    "print('*******************************************************')\n",
    "print(df.columns)\n",
    "print('*******************************************************')"
   ]
  },
  {
   "cell_type": "markdown",
   "metadata": {
    "id": "xhdng3THvRuV"
   },
   "source": [
    "> Delete Unless Columns"
   ]
  },
  {
   "cell_type": "code",
   "execution_count": 17,
   "metadata": {
    "colab": {
     "base_uri": "https://localhost:8080/"
    },
    "id": "8U-YfrW7V0U4",
    "outputId": "6895b2df-cfee-4da5-c601-6ba8c0915812"
   },
   "outputs": [
    {
     "data": {
      "text/plain": [
       "Index(['text', 'dialect'], dtype='object')"
      ]
     },
     "execution_count": 17,
     "metadata": {},
     "output_type": "execute_result"
    }
   ],
   "source": [
    "df.drop(['id'],axis=1,inplace=True)\n",
    "df.columns"
   ]
  },
  {
   "cell_type": "markdown",
   "metadata": {
    "id": "-MnyHJgmvE-J"
   },
   "source": [
    "> Show Data"
   ]
  },
  {
   "cell_type": "code",
   "execution_count": 18,
   "metadata": {
    "colab": {
     "base_uri": "https://localhost:8080/",
     "height": 336
    },
    "id": "5BUtOfA2VnOc",
    "outputId": "fe683568-11bd-4c67-b2e6-274346a9120a"
   },
   "outputs": [
    {
     "name": "stderr",
     "output_type": "stream",
     "text": [
      "/usr/local/lib/python3.7/dist-packages/seaborn/_decorators.py:43: FutureWarning: Pass the following variable as a keyword arg: x. From version 0.12, the only valid positional argument will be `data`, and passing other arguments without an explicit keyword will result in an error or misinterpretation.\n",
      "  FutureWarning\n"
     ]
    },
    {
     "data": {
      "image/png": "[encoded data removed]",
      "text/plain": [
       "<Figure size 432x288 with 1 Axes>"
      ]
     },
     "metadata": {
      "needs_background": "light"
     },
     "output_type": "display_data"
    }
   ],
   "source": [
    "types = df.dialect\n",
    "ax=sns.countplot(types,data = df ,label='Count')"
   ]
  },
  {
   "cell_type": "code",
   "execution_count": 19,
   "metadata": {
    "colab": {
     "base_uri": "https://localhost:8080/",
     "height": 614
    },
    "id": "dBfKFYbgVqKZ",
    "outputId": "a2347034-cebf-4e89-fcda-173d543dc0b4"
   },
   "outputs": [
    {
     "data": {
      "text/html": [
       "\n",
       "  <div id=\"df-0c07f71c-6f5c-4598-9b39-58c766b5fcf4\">\n",
       "    <div class=\"colab-df-container\">\n",
       "      <div>\n",
       "<style scoped>\n",
       "    .dataframe tbody tr th:only-of-type {\n",
       "        vertical-align: middle;\n",
       "    }\n",
       "\n",
       "    .dataframe tbody tr th {\n",
       "        vertical-align: top;\n",
       "    }\n",
       "\n",
       "    .dataframe thead th {\n",
       "        text-align: right;\n",
       "    }\n",
       "</style>\n",
       "<table border=\"1\" class=\"dataframe\">\n",
       "  <thead>\n",
       "    <tr style=\"text-align: right;\">\n",
       "      <th></th>\n",
       "      <th>dialect</th>\n",
       "    </tr>\n",
       "  </thead>\n",
       "  <tbody>\n",
       "    <tr>\n",
       "      <th>EG</th>\n",
       "      <td>57636</td>\n",
       "    </tr>\n",
       "    <tr>\n",
       "      <th>PL</th>\n",
       "      <td>43742</td>\n",
       "    </tr>\n",
       "    <tr>\n",
       "      <th>KW</th>\n",
       "      <td>42109</td>\n",
       "    </tr>\n",
       "    <tr>\n",
       "      <th>LY</th>\n",
       "      <td>36499</td>\n",
       "    </tr>\n",
       "    <tr>\n",
       "      <th>QA</th>\n",
       "      <td>31069</td>\n",
       "    </tr>\n",
       "    <tr>\n",
       "      <th>JO</th>\n",
       "      <td>27921</td>\n",
       "    </tr>\n",
       "    <tr>\n",
       "      <th>LB</th>\n",
       "      <td>27617</td>\n",
       "    </tr>\n",
       "    <tr>\n",
       "      <th>SA</th>\n",
       "      <td>26832</td>\n",
       "    </tr>\n",
       "    <tr>\n",
       "      <th>AE</th>\n",
       "      <td>26296</td>\n",
       "    </tr>\n",
       "    <tr>\n",
       "      <th>BH</th>\n",
       "      <td>26292</td>\n",
       "    </tr>\n",
       "    <tr>\n",
       "      <th>OM</th>\n",
       "      <td>19116</td>\n",
       "    </tr>\n",
       "    <tr>\n",
       "      <th>SY</th>\n",
       "      <td>16242</td>\n",
       "    </tr>\n",
       "    <tr>\n",
       "      <th>DZ</th>\n",
       "      <td>16183</td>\n",
       "    </tr>\n",
       "    <tr>\n",
       "      <th>IQ</th>\n",
       "      <td>15497</td>\n",
       "    </tr>\n",
       "    <tr>\n",
       "      <th>SD</th>\n",
       "      <td>14434</td>\n",
       "    </tr>\n",
       "    <tr>\n",
       "      <th>MA</th>\n",
       "      <td>11539</td>\n",
       "    </tr>\n",
       "    <tr>\n",
       "      <th>YE</th>\n",
       "      <td>9927</td>\n",
       "    </tr>\n",
       "    <tr>\n",
       "      <th>TN</th>\n",
       "      <td>9246</td>\n",
       "    </tr>\n",
       "  </tbody>\n",
       "</table>\n",
       "</div>\n",
       "      <button class=\"colab-df-convert\" onclick=\"convertToInteractive('df-0c07f71c-6f5c-4598-9b39-58c766b5fcf4')\"\n",
       "              title=\"Convert this dataframe to an interactive table.\"\n",
       "              style=\"display:none;\">\n",
       "        \n",
       "  <svg xmlns=\"http://www.w3.org/2000/svg\" height=\"24px\"viewBox=\"0 0 24 24\"\n",
       "       width=\"24px\">\n",
       "    <path d=\"M0 0h24v24H0V0z\" fill=\"none\"/>\n",
       "    <path d=\"M18.56 5.44l.94 2.06.94-2.06 2.06-.94-2.06-.94-.94-2.06-.94 2.06-2.06.94zm-11 1L8.5 8.5l.94-2.06 2.06-.94-2.06-.94L8.5 2.5l-.94 2.06-2.06.94zm10 10l.94 2.06.94-2.06 2.06-.94-2.06-.94-.94-2.06-.94 2.06-2.06.94z\"/><path d=\"M17.41 7.96l-1.37-1.37c-.4-.4-.92-.59-1.43-.59-.52 0-1.04.2-1.43.59L10.3 9.45l-7.72 7.72c-.78.78-.78 2.05 0 2.83L4 21.41c.39.39.9.59 1.41.59.51 0 1.02-.2 1.41-.59l7.78-7.78 2.81-2.81c.8-.78.8-2.07 0-2.86zM5.41 20L4 18.59l7.72-7.72 1.47 1.35L5.41 20z\"/>\n",
       "  </svg>\n",
       "      </button>\n",
       "      \n",
       "  <style>\n",
       "    .colab-df-container {\n",
       "      display:flex;\n",
       "      flex-wrap:wrap;\n",
       "      gap: 12px;\n",
       "    }\n",
       "\n",
       "    .colab-df-convert {\n",
       "      background-color: #E8F0FE;\n",
       "      border: none;\n",
       "      border-radius: 50%;\n",
       "      cursor: pointer;\n",
       "      display: none;\n",
       "      fill: #1967D2;\n",
       "      height: 32px;\n",
       "      padding: 0 0 0 0;\n",
       "      width: 32px;\n",
       "    }\n",
       "\n",
       "    .colab-df-convert:hover {\n",
       "      background-color: #E2EBFA;\n",
       "      box-shadow: 0px 1px 2px rgba(60, 64, 67, 0.3), 0px 1px 3px 1px rgba(60, 64, 67, 0.15);\n",
       "      fill: #174EA6;\n",
       "    }\n",
       "\n",
       "    [theme=dark] .colab-df-convert {\n",
       "      background-color: #3B4455;\n",
       "      fill: #D2E3FC;\n",
       "    }\n",
       "\n",
       "    [theme=dark] .colab-df-convert:hover {\n",
       "      background-color: #434B5C;\n",
       "      box-shadow: 0px 1px 3px 1px rgba(0, 0, 0, 0.15);\n",
       "      filter: drop-shadow(0px 1px 2px rgba(0, 0, 0, 0.3));\n",
       "      fill: #FFFFFF;\n",
       "    }\n",
       "  </style>\n",
       "\n",
       "      <script>\n",
       "        const buttonEl =\n",
       "          document.querySelector('#df-0c07f71c-6f5c-4598-9b39-58c766b5fcf4 button.colab-df-convert');\n",
       "        buttonEl.style.display =\n",
       "          google.colab.kernel.accessAllowed ? 'block' : 'none';\n",
       "\n",
       "        async function convertToInteractive(key) {\n",
       "          const element = document.querySelector('#df-0c07f71c-6f5c-4598-9b39-58c766b5fcf4');\n",
       "          const dataTable =\n",
       "            await google.colab.kernel.invokeFunction('convertToInteractive',\n",
       "                                                     [key], {});\n",
       "          if (!dataTable) return;\n",
       "\n",
       "          const docLinkHtml = 'Like what you see? Visit the ' +\n",
       "            '<a target=\"_blank\" href=https://colab.research.google.com/notebooks/data_table.ipynb>data table notebook</a>'\n",
       "            + ' to learn more about interactive tables.';\n",
       "          element.innerHTML = '';\n",
       "          dataTable['output_type'] = 'display_data';\n",
       "          await google.colab.output.renderOutput(dataTable, element);\n",
       "          const docLink = document.createElement('div');\n",
       "          docLink.innerHTML = docLinkHtml;\n",
       "          element.appendChild(docLink);\n",
       "        }\n",
       "      </script>\n",
       "    </div>\n",
       "  </div>\n",
       "  "
      ],
      "text/plain": [
       "    dialect\n",
       "EG    57636\n",
       "PL    43742\n",
       "KW    42109\n",
       "LY    36499\n",
       "QA    31069\n",
       "JO    27921\n",
       "LB    27617\n",
       "SA    26832\n",
       "AE    26296\n",
       "BH    26292\n",
       "OM    19116\n",
       "SY    16242\n",
       "DZ    16183\n",
       "IQ    15497\n",
       "SD    14434\n",
       "MA    11539\n",
       "YE     9927\n",
       "TN     9246"
      ]
     },
     "execution_count": 19,
     "metadata": {},
     "output_type": "execute_result"
    }
   ],
   "source": [
    "types = df['dialect'].value_counts()[:18]\n",
    "a = pd.DataFrame(types)\n",
    "a"
   ]
  },
  {
   "cell_type": "markdown",
   "metadata": {
    "id": "os0PGQOcvO65"
   },
   "source": [
    "> Missing Data"
   ]
  },
  {
   "cell_type": "code",
   "execution_count": 20,
   "metadata": {
    "colab": {
     "base_uri": "https://localhost:8080/"
    },
    "id": "TkDfi4w-Vu59",
    "outputId": "8847c581-57ae-471e-a6e1-c6b705e1e039"
   },
   "outputs": [
    {
     "data": {
      "text/plain": [
       "text       0\n",
       "dialect    0\n",
       "dtype: int64"
      ]
     },
     "execution_count": 20,
     "metadata": {},
     "output_type": "execute_result"
    }
   ],
   "source": [
    "df.isnull().sum()"
   ]
  },
  {
   "cell_type": "code",
   "execution_count": 21,
   "metadata": {
    "colab": {
     "base_uri": "https://localhost:8080/",
     "height": 456
    },
    "id": "dR4vYMXWVxvp",
    "outputId": "df72e7ab-1529-4d6d-af9a-135c02d2eb33"
   },
   "outputs": [
    {
     "data": {
      "text/plain": [
       "<matplotlib.axes._subplots.AxesSubplot at 0x7f0001393fd0>"
      ]
     },
     "execution_count": 21,
     "metadata": {},
     "output_type": "execute_result"
    },
    {
     "data": {
      "image/png": "[encoded data removed]",
      "text/plain": [
       "<Figure size 1800x720 with 3 Axes>"
      ]
     },
     "metadata": {
      "needs_background": "light"
     },
     "output_type": "display_data"
    }
   ],
   "source": [
    "msno.bar(df)"
   ]
  },
  {
   "cell_type": "markdown",
   "metadata": {
    "id": "nS8HKYsT2QH5"
   },
   "source": [
    "\n",
    "> Clean The Data\n",
    "  1. Remove Stopwords\n",
    "  2. Remove Punctuations\n",
    "  3. Removing URLs\n",
    "  4. Removing Stop words\n",
    "  5. Remove White spaces\n",
    "  6. Removal of emojis\n",
    "  7. Remove_repeating_char\n",
    "  8. Removal of HTML tags\n",
    "  9. Most Mommon Words"
   ]
  },
  {
   "cell_type": "code",
   "execution_count": 22,
   "metadata": {
    "colab": {
     "base_uri": "https://localhost:8080/"
    },
    "id": "6tgdymr5nyja",
    "outputId": "9eb796de-8b42-4148-c7a5-c3113f428fe6"
   },
   "outputs": [
    {
     "data": {
      "text/plain": [
       "507"
      ]
     },
     "execution_count": 22,
     "metadata": {},
     "output_type": "execute_result"
    }
   ],
   "source": [
    "# Stopwords\n",
    "len(stp.classed_stopwords_list())"
   ]
  },
  {
   "cell_type": "code",
   "execution_count": 23,
   "metadata": {
    "colab": {
     "base_uri": "https://localhost:8080/"
    },
    "id": "8n5gcLOV5hTC",
    "outputId": "a0031073-a5b5-4351-87af-cd5a98c5fc69"
   },
   "outputs": [
    {
     "data": {
      "text/plain": [
       "dict_keys(['حم', 'غداة', 'جنوب', 'ذواتا', 'حي', 'لازلنا', 'زمان', 'عوض', 'بنا', 'أجمع', 'ؤ', 'إيه', 'لدن', 'ها', 'ش', 'غرب', 'لازلتم', 'هج', 'هب', 'عسى', 'ل', 'آنفا', 'لازلتن', 'هن', 'هم', 'هل', 'هاؤم', 'ارتد', 'هي', 'هو', 'لازالتا', 'تلكما', 'وقت', 'أولئكم', 'نحو', 'حسب', 'نحن', 'لئن', 'اللذين', 'أب', 'أخ', 'قبل', 'بدون', 'مادامتا', 'بئس', 'د', 'ذا', 'لعمر', 'هاهنا', 'كما', 'لستم', 'لستن', 'حتى', 'لدى', 'ذه', 'ذي', 'ذو', 'أي', 'أو', 'أف', 'أن', 'أم', 'نعما', 'هيت', 'هيا', 'مابرح', 'حينما', 'هلا', 'إنما', 'جعل', 'كخ', 'ت', 'عما', 'بكن', 'بكم', 'مازلنا', 'غ', 'رويدك', 'دون', 'أولئك', 'كي', 'هؤلاء', 'لها', 'ي', 'مكانكما', 'كم', 'كل', 'مافتئتن', 'ماانفككتما', 'لعل', 'إنا', 'لازال', 'متى', 'مابرحوا', 'خلال', 'مازلتن', 'مازلتم', 'ثنا', 'راح', 'هلم', 'لولا', 'مابرحتما', 'مافتئت', 'مافتئتم', 'تان', 'مرة', 'أصلا', 'وشكان', 'كأنما', 'إياهما', 'أسفل', 'ص', 'أمامك', 'م', 'مادمتما', 'إياهم', 'ماانفكوا', 'استحال', 'إليك', 'أمسى', 'انبرى', 'مافتئتا', 'أنتم', 'لازالوا', 'أنتن', 'ليستا', 'ماانفككن', 'أوشك', 'طفق', 'لازالت', 'صه', 'لازالا', 'هناك', 'ليس', 'هاذين', 'مازالوا', 'إلا', 'سوف', 'ب', 'آمين', 'آناء', 'هاتين', 'ليت', 'و', 'أكثر', 'إلى', 'أثناء', 'ابن', 'بعدئذ', 'فلان', 'ليل', 'تين', 'أصبح', 'لكما', 'كأين', 'قد', 'ماانفككت', 'قط', 'لحظة', 'شمال', 'ثم', 'أجل', 'عليك', 'دونك', 'ذلكما', 'حما', 'أنت', 'التي', 'أوه', 'أنا', 'مثل', 'هذين', 'س', 'لازلتما', 'ك', 'أنى', 'حمو', 'حمي', 'هما', 'جير', 'أبدا', 'اللذان', 'عند', 'ظل', 'سرعان', 'خلف', 'تحول', 'هاته', 'هاتي', 'حوالى', 'جلل', 'تينك', 'أولاء', 'آنذاك', 'بعد', 'حين', 'ذيت', 'أيان', 'قلما', 'مازالا', 'خ', 'إزاء', 'بعض', 'فيما', 'لنا', 'مكانكن', 'تلكم', 'ذين', 'اللائي', 'تلقاء', 'خلا', 'حيث', 'مافتئوا', 'صار', 'أينما', 'يمين', 'رب', 'ماذا', 'لست', 'مافتئن', 'ذان', 'إياه', 'ذاك', 'ة', 'ن', 'حذار', 'ماانفكتا', 'ع', 'مادمتم', 'مادمتن', 'مابرحنا', 'ى', 'ذات', 'واها', 'أما', 'جدا', 'أمد', 'اللواتي', 'أمس', 'لسن', 'معاذ', 'الذين', 'حيثما', 'تحت', 'غير', 'حاشا', 'مافتئ', 'مابرحتن', 'مابرحتم', 'أمام', 'ج', 'أضحى', 'اللتيا', 'هاتان', 'هكذا', 'مابرحتا', 'كلتا', 'بضع', 'انقلب', 'اللتين', 'ساء', 'لستما', 'إليكن', 'إليكم', 'غدا', 'حاي', 'كلما', 'تبدل', 'مكانكم', 'كذلك', 'شتان', 'الآن', 'أولالك', 'إياي', 'ممن', 'إياك', 'كيت', 'بعدما', 'اخلولق', 'حرى', 'مادمنا', 'ط', 'ه', 'عاد', 'كيف', 'إياكم', 'إياكن', 'سبحان', 'هذان', 'أقبل', 'الألاء', 'مما', 'ليسوا', 'لما', 'ضحوة', 'مابرحا', 'آها', 'ماداموا', 'آ', 'كاد', 'عل', 'عن', 'مافتئتما', 'ز', 'لازلت', 'بيد', 'ق', 'ظ', 'ماداما', 'كان', 'كلاهما', 'بين', 'هيهات', 'إذا', 'إياكما', 'الذي', 'بل', 'نخ', 'طاق', 'أبو', 'أبي', 'هذا', 'لاسيما', 'هنا', 'ساءما', 'ذينك', 'آه', 'ساعة', 'ح', 'ابتدأ', 'صباح', 'ضمن', 'لكيلا', 'بمن', 'كيفما', 'سوى', 'إياها', 'تانك', 'أقل', 'إليكما', 'لئلا', 'كذا', 'آض', 'بما', 'ماانفكا', 'فيم', 'إياهن', 'فا', 'هذي', 'أبا', 'هذه', 'تجاه', 'شطر', 'حينئذ', 'أيضا', 'شرق', 'رجع', 'عامة', 'إذن', 'غروب', 'عندما', 'وراءك', 'إذ', 'ألا', 'لكي', 'مابرحت', 'لكن', 'لكم', 'يومئذ', 'لكنما', 'قبلما', 'بي', 'ذ', 'ماانفككنا', 'بك', 'بن', 'به', 'اللتان', 'ماانفككتم', 'تارة', 'بس', 'مابرحن', 'فقط', 'أنشأ', 'ماانفككتن', 'بخ', 'مثلما', 'شبه', 'بها', 'مازلتما', 'فوق', 'شهر', 'ماانفكت', 'إي', 'اللاتي', 'مازال', 'إن', 'كأن', 'كليهما', 'مافتئا', 'كليكما', 'شرع', 'ليسا', 'مكانك', 'ليست', 'وي', 'أعلى', 'لسنا', 'ثمة', 'لات', 'حسبما', 'ث', 'طالما', 'ذوا', 'مع', 'ماانفك', 'نفس', 'مذ', 'بكما', 'ذوي', 'ذوو', 'مه', 'من', 'حبذا', 'مادام', 'عدا', 'بينما', 'وراء', 'بات', 'عدس', 'وا', 'كلا', 'على', 'علق', 'مازلن', 'حار', 'وراءكن', 'مازالتا', 'وراءكم', 'مادمت', 'أخي', 'أخو', 'قام', 'ئ', 'إذما', 'أين', 'بطآن', 'الألى', 'ض', 'ذلكم', 'ذلكن', 'أية', 'نعم', 'أيا', 'هاك', 'ذواتي', 'مازلت', 'آنئذ', 'أخذ', 'ذلك', 'عندئذ', 'أخا', 'ويكأن', 'إيانا', 'كرب', 'لي', 'لو', 'لن', 'له', 'لم', 'لك', 'بلا', 'مادمن', 'ذانك', 'إما', 'هنالك', 'مادامت', 'ء', 'ريث', 'طق', 'جميع', 'حول', 'ر', 'مهما', 'تي', 'كأي', 'لوما', 'ته', 'ف', 'فو', 'في', 'أ', 'أول', 'مافتئنا', 'مساء', 'بماذا', 'عين', 'لا', 'جنب', 'تلك', 'بله', 'منذ', 'أنتما', 'وراءكما', 'لازلن', 'ما', 'بلى'])"
      ]
     },
     "execution_count": 23,
     "metadata": {},
     "output_type": "execute_result"
    }
   ],
   "source": [
    "stp.classed_stopwords_list()"
   ]
  },
  {
   "cell_type": "code",
   "execution_count": 24,
   "metadata": {
    "id": "RdmdAeaFV2mf"
   },
   "outputs": [],
   "source": [
    "def clean_text(tweet):\n",
    "    # Remove Stopwords\n",
    "    STOPWORDS = stp.classed_STOPWORDS \n",
    "    #remove links and mentions\n",
    "    tweet = re.sub('((www\\.[^\\s]+)|(https?://[^\\s]+))','',tweet) \n",
    "    tweet = re.sub('@[^\\s]+','',tweet)   \n",
    "    #remove  digits and Punctuations\n",
    "    tweet = re.sub('\\@|\\)|\\(|\\.|\\d|\\!|\\#|\\$|\\[|\\]|\\%|\\&|\\*|\\~|\\,|\\;|\\،|\\'|\\\"|\\,|\\+|\\-|\\:|\\<|\\>|\\=|\\?|\\؟|\\_|\\|','',tweet)  \n",
    "    #remove english words\n",
    "    tweet = re.sub(r\"[a-zA-Z]\", '', tweet)\n",
    "    #remove emoji\n",
    "    tweet = re.sub(emoji.get_emoji_regexp(), r\"\", tweet) \n",
    "    tweet = word_tokenize(tweet)\n",
    "    tweet = \" \".join(word for word in tweet if word not in STOPWORDS)\n",
    "    return tweet"
   ]
  },
  {
   "cell_type": "code",
   "execution_count": 25,
   "metadata": {
    "colab": {
     "base_uri": "https://localhost:8080/"
    },
    "id": "yS-pcJ5hV5DN",
    "outputId": "3ca06197-fd05-4e39-8719-9ede964061c3"
   },
   "outputs": [
    {
     "name": "stderr",
     "output_type": "stream",
     "text": [
      "/usr/local/lib/python3.7/dist-packages/ipykernel_launcher.py:12: DeprecationWarning: 'emoji.get_emoji_regexp()' is deprecated and will be removed in version 2.0.0. If you want to remove emoji from a string, consider the method emoji.replace_emoji(str, replace='').\n",
      "To hide this warning, pin/downgrade the package to 'emoji~=1.6.3'\n",
      "  if sys.path[0] == '':\n"
     ]
    }
   ],
   "source": [
    "df['text'] = df['text'].apply(clean_text)"
   ]
  },
  {
   "cell_type": "code",
   "execution_count": 26,
   "metadata": {
    "id": "Z3RiEK7j98_Y"
   },
   "outputs": [],
   "source": [
    "# https://github.com/NeelShah18/emot/blob/master/emot/emo_unicode.py\n",
    "\n",
    "EMOTICONS = {\n",
    "    u\":‑\\)\":\"Happy face or smiley\",\n",
    "    u\":\\)\":\"Happy face or smiley\",\n",
    "    u\":-\\]\":\"Happy face or smiley\",\n",
    "    u\":\\]\":\"Happy face or smiley\",\n",
    "    u\":-3\":\"Happy face smiley\",\n",
    "    u\":3\":\"Happy face smiley\",\n",
    "    u\":->\":\"Happy face smiley\",\n",
    "    u\":>\":\"Happy face smiley\",\n",
    "    u\"8-\\)\":\"Happy face smiley\",\n",
    "    u\":o\\)\":\"Happy face smiley\",\n",
    "    u\":-\\}\":\"Happy face smiley\",\n",
    "    u\":\\}\":\"Happy face smiley\",\n",
    "    u\":-\\)\":\"Happy face smiley\",\n",
    "    u\":c\\)\":\"Happy face smiley\",\n",
    "    u\":\\^\\)\":\"Happy face smiley\",\n",
    "    u\"=\\]\":\"Happy face smiley\",\n",
    "    u\"=\\)\":\"Happy face smiley\",\n",
    "    u\":‑D\":\"Laughing, big grin or laugh with glasses\",\n",
    "    u\":D\":\"Laughing, big grin or laugh with glasses\",\n",
    "    u\"8‑D\":\"Laughing, big grin or laugh with glasses\",\n",
    "    u\"8D\":\"Laughing, big grin or laugh with glasses\",\n",
    "    u\"X‑D\":\"Laughing, big grin or laugh with glasses\",\n",
    "    u\"XD\":\"Laughing, big grin or laugh with glasses\",\n",
    "    u\"=D\":\"Laughing, big grin or laugh with glasses\",\n",
    "    u\"=3\":\"Laughing, big grin or laugh with glasses\",\n",
    "    u\"B\\^D\":\"Laughing, big grin or laugh with glasses\",\n",
    "    u\":-\\)\\)\":\"Very happy\",\n",
    "    u\":‑\\(\":\"Frown, sad, andry or pouting\",\n",
    "    u\":-\\(\":\"Frown, sad, andry or pouting\",\n",
    "    u\":\\(\":\"Frown, sad, andry or pouting\",\n",
    "    u\":‑c\":\"Frown, sad, andry or pouting\",\n",
    "    u\":c\":\"Frown, sad, andry or pouting\",\n",
    "    u\":‑<\":\"Frown, sad, andry or pouting\",\n",
    "    u\":<\":\"Frown, sad, andry or pouting\",\n",
    "    u\":‑\\[\":\"Frown, sad, andry or pouting\",\n",
    "    u\":\\[\":\"Frown, sad, andry or pouting\",\n",
    "    u\":-\\|\\|\":\"Frown, sad, andry or pouting\",\n",
    "    u\">:\\[\":\"Frown, sad, andry or pouting\",\n",
    "    u\":\\{\":\"Frown, sad, andry or pouting\",\n",
    "    u\":@\":\"Frown, sad, andry or pouting\",\n",
    "    u\">:\\(\":\"Frown, sad, andry or pouting\",\n",
    "    u\":'‑\\(\":\"Crying\",\n",
    "    u\":'\\(\":\"Crying\",\n",
    "    u\":'‑\\)\":\"Tears of happiness\",\n",
    "    u\":'\\)\":\"Tears of happiness\",\n",
    "    u\"D‑':\":\"Horror\",\n",
    "    u\"D:<\":\"Disgust\",\n",
    "    u\"D:\":\"Sadness\",\n",
    "    u\"D8\":\"Great dismay\",\n",
    "    u\"D;\":\"Great dismay\",\n",
    "    u\"D=\":\"Great dismay\",\n",
    "    u\"DX\":\"Great dismay\",\n",
    "    u\":‑O\":\"Surprise\",\n",
    "    u\":O\":\"Surprise\",\n",
    "    u\":‑o\":\"Surprise\",\n",
    "    u\":o\":\"Surprise\",\n",
    "    u\":-0\":\"Shock\",\n",
    "    u\"8‑0\":\"Yawn\",\n",
    "    u\">:O\":\"Yawn\",\n",
    "    u\":-\\*\":\"Kiss\",\n",
    "    u\":\\*\":\"Kiss\",\n",
    "    u\":X\":\"Kiss\",\n",
    "    u\";‑\\)\":\"Wink or smirk\",\n",
    "    u\";\\)\":\"Wink or smirk\",\n",
    "    u\"\\*-\\)\":\"Wink or smirk\",\n",
    "    u\"\\*\\)\":\"Wink or smirk\",\n",
    "    u\";‑\\]\":\"Wink or smirk\",\n",
    "    u\";\\]\":\"Wink or smirk\",\n",
    "    u\";\\^\\)\":\"Wink or smirk\",\n",
    "    u\":‑,\":\"Wink or smirk\",\n",
    "    u\";D\":\"Wink or smirk\",\n",
    "    u\":‑P\":\"Tongue sticking out, cheeky, playful or blowing a raspberry\",\n",
    "    u\":P\":\"Tongue sticking out, cheeky, playful or blowing a raspberry\",\n",
    "    u\"X‑P\":\"Tongue sticking out, cheeky, playful or blowing a raspberry\",\n",
    "    u\"XP\":\"Tongue sticking out, cheeky, playful or blowing a raspberry\",\n",
    "    u\":‑Þ\":\"Tongue sticking out, cheeky, playful or blowing a raspberry\",\n",
    "    u\":Þ\":\"Tongue sticking out, cheeky, playful or blowing a raspberry\",\n",
    "    u\":b\":\"Tongue sticking out, cheeky, playful or blowing a raspberry\",\n",
    "    u\"d:\":\"Tongue sticking out, cheeky, playful or blowing a raspberry\",\n",
    "    u\"=p\":\"Tongue sticking out, cheeky, playful or blowing a raspberry\",\n",
    "    u\">:P\":\"Tongue sticking out, cheeky, playful or blowing a raspberry\",\n",
    "    u\":‑/\":\"Skeptical, annoyed, undecided, uneasy or hesitant\",\n",
    "    u\":/\":\"Skeptical, annoyed, undecided, uneasy or hesitant\",\n",
    "    u\":-[.]\":\"Skeptical, annoyed, undecided, uneasy or hesitant\",\n",
    "    u\">:[(\\\\\\)]\":\"Skeptical, annoyed, undecided, uneasy or hesitant\",\n",
    "    u\">:/\":\"Skeptical, annoyed, undecided, uneasy or hesitant\",\n",
    "    u\":[(\\\\\\)]\":\"Skeptical, annoyed, undecided, uneasy or hesitant\",\n",
    "    u\"=/\":\"Skeptical, annoyed, undecided, uneasy or hesitant\",\n",
    "    u\"=[(\\\\\\)]\":\"Skeptical, annoyed, undecided, uneasy or hesitant\",\n",
    "    u\":L\":\"Skeptical, annoyed, undecided, uneasy or hesitant\",\n",
    "    u\"=L\":\"Skeptical, annoyed, undecided, uneasy or hesitant\",\n",
    "    u\":S\":\"Skeptical, annoyed, undecided, uneasy or hesitant\",\n",
    "    u\":‑\\|\":\"Straight face\",\n",
    "    u\":\\|\":\"Straight face\",\n",
    "    u\":$\":\"Embarrassed or blushing\",\n",
    "    u\":‑x\":\"Sealed lips or wearing braces or tongue-tied\",\n",
    "    u\":x\":\"Sealed lips or wearing braces or tongue-tied\",\n",
    "    u\":‑#\":\"Sealed lips or wearing braces or tongue-tied\",\n",
    "    u\":#\":\"Sealed lips or wearing braces or tongue-tied\",\n",
    "    u\":‑&\":\"Sealed lips or wearing braces or tongue-tied\",\n",
    "    u\":&\":\"Sealed lips or wearing braces or tongue-tied\",\n",
    "    u\"O:‑\\)\":\"Angel, saint or innocent\",\n",
    "    u\"O:\\)\":\"Angel, saint or innocent\",\n",
    "    u\"0:‑3\":\"Angel, saint or innocent\",\n",
    "    u\"0:3\":\"Angel, saint or innocent\",\n",
    "    u\"0:‑\\)\":\"Angel, saint or innocent\",\n",
    "    u\"0:\\)\":\"Angel, saint or innocent\",\n",
    "    u\":‑b\":\"Tongue sticking out, cheeky, playful or blowing a raspberry\",\n",
    "    u\"0;\\^\\)\":\"Angel, saint or innocent\",\n",
    "    u\">:‑\\)\":\"Evil or devilish\",\n",
    "    u\">:\\)\":\"Evil or devilish\",\n",
    "    u\"\\}:‑\\)\":\"Evil or devilish\",\n",
    "    u\"\\}:\\)\":\"Evil or devilish\",\n",
    "    u\"3:‑\\)\":\"Evil or devilish\",\n",
    "    u\"3:\\)\":\"Evil or devilish\",\n",
    "    u\">;\\)\":\"Evil or devilish\",\n",
    "    u\"\\|;‑\\)\":\"Cool\",\n",
    "    u\"\\|‑O\":\"Bored\",\n",
    "    u\":‑J\":\"Tongue-in-cheek\",\n",
    "    u\"#‑\\)\":\"Party all night\",\n",
    "    u\"%‑\\)\":\"Drunk or confused\",\n",
    "    u\"%\\)\":\"Drunk or confused\",\n",
    "    u\":-###..\":\"Being sick\",\n",
    "    u\":###..\":\"Being sick\",\n",
    "    u\"<:‑\\|\":\"Dump\",\n",
    "    u\"\\(>_<\\)\":\"Troubled\",\n",
    "    u\"\\(>_<\\)>\":\"Troubled\",\n",
    "    u\"\\(';'\\)\":\"Baby\",\n",
    "    u\"\\(\\^\\^>``\":\"Nervous or Embarrassed or Troubled or Shy or Sweat drop\",\n",
    "    u\"\\(\\^_\\^;\\)\":\"Nervous or Embarrassed or Troubled or Shy or Sweat drop\",\n",
    "    u\"\\(-_-;\\)\":\"Nervous or Embarrassed or Troubled or Shy or Sweat drop\",\n",
    "    u\"\\(~_~;\\) \\(・\\.・;\\)\":\"Nervous or Embarrassed or Troubled or Shy or Sweat drop\",\n",
    "    u\"\\(-_-\\)zzz\":\"Sleeping\",\n",
    "    u\"\\(\\^_-\\)\":\"Wink\",\n",
    "    u\"\\(\\(\\+_\\+\\)\\)\":\"Confused\",\n",
    "    u\"\\(\\+o\\+\\)\":\"Confused\",\n",
    "    u\"\\(o\\|o\\)\":\"Ultraman\",\n",
    "    u\"\\^_\\^\":\"Joyful\",\n",
    "    u\"\\(\\^_\\^\\)/\":\"Joyful\",\n",
    "    u\"\\(\\^O\\^\\)／\":\"Joyful\",\n",
    "    u\"\\(\\^o\\^\\)／\":\"Joyful\",\n",
    "    u\"\\(__\\)\":\"Kowtow as a sign of respect, or dogeza for apology\",\n",
    "    u\"_\\(\\._\\.\\)_\":\"Kowtow as a sign of respect, or dogeza for apology\",\n",
    "    u\"<\\(_ _\\)>\":\"Kowtow as a sign of respect, or dogeza for apology\",\n",
    "    u\"<m\\(__\\)m>\":\"Kowtow as a sign of respect, or dogeza for apology\",\n",
    "    u\"m\\(__\\)m\":\"Kowtow as a sign of respect, or dogeza for apology\",\n",
    "    u\"m\\(_ _\\)m\":\"Kowtow as a sign of respect, or dogeza for apology\",\n",
    "    u\"\\('_'\\)\":\"Sad or Crying\",\n",
    "    u\"\\(/_;\\)\":\"Sad or Crying\",\n",
    "    u\"\\(T_T\\) \\(;_;\\)\":\"Sad or Crying\",\n",
    "    u\"\\(;_;\":\"Sad of Crying\",\n",
    "    u\"\\(;_:\\)\":\"Sad or Crying\",\n",
    "    u\"\\(;O;\\)\":\"Sad or Crying\",\n",
    "    u\"\\(:_;\\)\":\"Sad or Crying\",\n",
    "    u\"\\(ToT\\)\":\"Sad or Crying\",\n",
    "    u\";_;\":\"Sad or Crying\",\n",
    "    u\";-;\":\"Sad or Crying\",\n",
    "    u\";n;\":\"Sad or Crying\",\n",
    "    u\";;\":\"Sad or Crying\",\n",
    "    u\"Q\\.Q\":\"Sad or Crying\",\n",
    "    u\"T\\.T\":\"Sad or Crying\",\n",
    "    u\"QQ\":\"Sad or Crying\",\n",
    "    u\"Q_Q\":\"Sad or Crying\",\n",
    "    u\"\\(-\\.-\\)\":\"Shame\",\n",
    "    u\"\\(-_-\\)\":\"Shame\",\n",
    "    u\"\\(一一\\)\":\"Shame\",\n",
    "    u\"\\(；一_一\\)\":\"Shame\",\n",
    "    u\"\\(=_=\\)\":\"Tired\",\n",
    "    u\"\\(=\\^\\·\\^=\\)\":\"cat\",\n",
    "    u\"\\(=\\^\\·\\·\\^=\\)\":\"cat\",\n",
    "    u\"=_\\^=\t\":\"cat\",\n",
    "    u\"\\(\\.\\.\\)\":\"Looking down\",\n",
    "    u\"\\(\\._\\.\\)\":\"Looking down\",\n",
    "    u\"\\^m\\^\":\"Giggling with hand covering mouth\",\n",
    "    u\"\\(\\・\\・?\":\"Confusion\",\n",
    "    u\"\\(?_?\\)\":\"Confusion\",\n",
    "    u\">\\^_\\^<\":\"Normal Laugh\",\n",
    "    u\"<\\^!\\^>\":\"Normal Laugh\",\n",
    "    u\"\\^/\\^\":\"Normal Laugh\",\n",
    "    u\"\\（\\*\\^_\\^\\*）\" :\"Normal Laugh\",\n",
    "    u\"\\(\\^<\\^\\) \\(\\^\\.\\^\\)\":\"Normal Laugh\",\n",
    "    u\"\\(^\\^\\)\":\"Normal Laugh\",\n",
    "    u\"\\(\\^\\.\\^\\)\":\"Normal Laugh\",\n",
    "    u\"\\(\\^_\\^\\.\\)\":\"Normal Laugh\",\n",
    "    u\"\\(\\^_\\^\\)\":\"Normal Laugh\",\n",
    "    u\"\\(\\^\\^\\)\":\"Normal Laugh\",\n",
    "    u\"\\(\\^J\\^\\)\":\"Normal Laugh\",\n",
    "    u\"\\(\\*\\^\\.\\^\\*\\)\":\"Normal Laugh\",\n",
    "    u\"\\(\\^—\\^\\）\":\"Normal Laugh\",\n",
    "    u\"\\(#\\^\\.\\^#\\)\":\"Normal Laugh\",\n",
    "    u\"\\（\\^—\\^\\）\":\"Waving\",\n",
    "    u\"\\(;_;\\)/~~~\":\"Waving\",\n",
    "    u\"\\(\\^\\.\\^\\)/~~~\":\"Waving\",\n",
    "    u\"\\(-_-\\)/~~~ \\($\\·\\·\\)/~~~\":\"Waving\",\n",
    "    u\"\\(T_T\\)/~~~\":\"Waving\",\n",
    "    u\"\\(ToT\\)/~~~\":\"Waving\",\n",
    "    u\"\\(\\*\\^0\\^\\*\\)\":\"Excited\",\n",
    "    u\"\\(\\*_\\*\\)\":\"Amazed\",\n",
    "    u\"\\(\\*_\\*;\":\"Amazed\",\n",
    "    u\"\\(\\+_\\+\\) \\(@_@\\)\":\"Amazed\",\n",
    "    u\"\\(\\*\\^\\^\\)v\":\"Laughing,Cheerful\",\n",
    "    u\"\\(\\^_\\^\\)v\":\"Laughing,Cheerful\",\n",
    "    u\"\\(\\(d[-_-]b\\)\\)\":\"Headphones,Listening to music\",\n",
    "    u'\\(-\"-\\)':\"Worried\",\n",
    "    u\"\\(ーー;\\)\":\"Worried\",\n",
    "    u\"\\(\\^0_0\\^\\)\":\"Eyeglasses\",\n",
    "    u\"\\(\\＾ｖ\\＾\\)\":\"Happy\",\n",
    "    u\"\\(\\＾ｕ\\＾\\)\":\"Happy\",\n",
    "    u\"\\(\\^\\)o\\(\\^\\)\":\"Happy\",\n",
    "    u\"\\(\\^O\\^\\)\":\"Happy\",\n",
    "    u\"\\(\\^o\\^\\)\":\"Happy\",\n",
    "    u\"\\)\\^o\\^\\(\":\"Happy\",\n",
    "    u\":O o_O\":\"Surprised\",\n",
    "    u\"o_0\":\"Surprised\",\n",
    "    u\"o\\.O\":\"Surpised\",\n",
    "    u\"\\(o\\.o\\)\":\"Surprised\",\n",
    "    u\"oO\":\"Surprised\",\n",
    "    u\"\\(\\*￣m￣\\)\":\"Dissatisfied\",\n",
    "    u\"\\(‘A`\\)\":\"Snubbed or Deflated\"\n",
    "}"
   ]
  },
  {
   "cell_type": "code",
   "execution_count": 27,
   "metadata": {
    "id": "JxOqcfol-oME"
   },
   "outputs": [],
   "source": [
    "def remove_emoticons(text):\n",
    "    emoticon_pattern = re.compile(u'(' + u'|'.join(k for k in EMOTICONS) + u')')\n",
    "    return emoticon_pattern.sub(r'', text)"
   ]
  },
  {
   "cell_type": "code",
   "execution_count": 28,
   "metadata": {
    "id": "gXirNBT0--cT"
   },
   "outputs": [],
   "source": [
    "df['text'] = df['text'].apply(remove_emoticons)"
   ]
  },
  {
   "cell_type": "code",
   "execution_count": 29,
   "metadata": {
    "id": "IT9JNOW3pMXs"
   },
   "outputs": [],
   "source": [
    "def normalizeArabic_and_remove_repeating_char(text):\n",
    "    text = re.sub(\"[إأٱآا]\", \"ا\", text)\n",
    "    text = re.sub(\"ى\", \"ي\", text)\n",
    "    text = re.sub(\"ؤ\", \"ء\", text)\n",
    "    text = re.sub(\"ئ\", \"ء\", text)\n",
    "    text = re.sub(r'(.)\\1+', r'\\1', text)\n",
    "    return text"
   ]
  },
  {
   "cell_type": "code",
   "execution_count": 30,
   "metadata": {
    "id": "P1OZ1yf2pNKw"
   },
   "outputs": [],
   "source": [
    "df['text'] = df['text'].apply(normalizeArabic_and_remove_repeating_char)"
   ]
  },
  {
   "cell_type": "code",
   "execution_count": 31,
   "metadata": {
    "colab": {
     "base_uri": "https://localhost:8080/"
    },
    "id": "k93bMCq_yWoI",
    "outputId": "64be7ab7-88b4-4d07-a112-d21dafd6e5ea"
   },
   "outputs": [
    {
     "data": {
      "text/plain": [
       "[('الي', 78808),\n",
       " ('اله', 49879),\n",
       " ('يا', 43646),\n",
       " ('انا', 31080),\n",
       " ('مش', 30748),\n",
       " ('ولا', 27007),\n",
       " ('واله', 24720),\n",
       " ('ه', 21117),\n",
       " ('شي', 19453),\n",
       " ('انت', 17176),\n",
       " ('ان', 16096),\n",
       " ('يعني', 13827),\n",
       " ('فيه', 13339),\n",
       " ('عشان', 13333),\n",
       " ('الناس', 13265),\n",
       " ('واحد', 12243),\n",
       " ('مو', 11910),\n",
       " ('علي', 11682),\n",
       " ('اذا', 11422),\n",
       " ('او', 11312),\n",
       " ('انه', 11096),\n",
       " ('اي', 10948),\n",
       " ('ده', 10522),\n",
       " ('فيها', 9770),\n",
       " ('يوم', 9764)]"
      ]
     },
     "execution_count": 31,
     "metadata": {},
     "output_type": "execute_result"
    }
   ],
   "source": [
    "from collections import Counter\n",
    "cnt = Counter()\n",
    "for text in df[\"text\"].values:\n",
    "    for word in text.split():\n",
    "        cnt[word] += 1\n",
    "        \n",
    "cnt.most_common(25)"
   ]
  },
  {
   "cell_type": "code",
   "execution_count": 32,
   "metadata": {
    "colab": {
     "base_uri": "https://localhost:8080/",
     "height": 879
    },
    "id": "8WgdnTY8yWoI",
    "outputId": "968563c2-1f47-44bf-ba78-a872b111765d"
   },
   "outputs": [
    {
     "data": {
      "image/png": "[encoded data removed]",
      "text/plain": [
       "<Figure size 1080x1080 with 1 Axes>"
      ]
     },
     "metadata": {
      "needs_background": "light"
     },
     "output_type": "display_data"
    }
   ],
   "source": [
    "clean_tweets_nsw = pd.DataFrame(cnt.most_common(30),\n",
    "                             columns=['words', 'count'])\n",
    "fig, ax = plt.subplots(figsize=(15, 15))\n",
    "\n",
    "# Plot horizontal bar graph\n",
    "clean_tweets_nsw.sort_values(by='count').plot.barh(x='words',\n",
    "                      y='count',\n",
    "                      ax=ax,\n",
    "                      color=\"purple\")\n",
    "\n",
    "ax.set_title(\"Common Words Found in Tweets (Without Stop Words)\")\n",
    "\n",
    "plt.show()"
   ]
  },
  {
   "cell_type": "code",
   "execution_count": 33,
   "metadata": {
    "colab": {
     "base_uri": "https://localhost:8080/",
     "height": 206
    },
    "id": "sGe7uQflyWoJ",
    "outputId": "51cd02c7-f576-4b13-c3dc-af39eb9b7340"
   },
   "outputs": [
    {
     "data": {
      "text/html": [
       "\n",
       "  <div id=\"df-ce3214bf-eac8-42bf-9c6e-3afc5f6a71b2\">\n",
       "    <div class=\"colab-df-container\">\n",
       "      <div>\n",
       "<style scoped>\n",
       "    .dataframe tbody tr th:only-of-type {\n",
       "        vertical-align: middle;\n",
       "    }\n",
       "\n",
       "    .dataframe tbody tr th {\n",
       "        vertical-align: top;\n",
       "    }\n",
       "\n",
       "    .dataframe thead th {\n",
       "        text-align: right;\n",
       "    }\n",
       "</style>\n",
       "<table border=\"1\" class=\"dataframe\">\n",
       "  <thead>\n",
       "    <tr style=\"text-align: right;\">\n",
       "      <th></th>\n",
       "      <th>text</th>\n",
       "      <th>dialect</th>\n",
       "    </tr>\n",
       "  </thead>\n",
       "  <tbody>\n",
       "    <tr>\n",
       "      <th>0</th>\n",
       "      <td>بالنهاية ينتفض يغير</td>\n",
       "      <td>IQ</td>\n",
       "    </tr>\n",
       "    <tr>\n",
       "      <th>1</th>\n",
       "      <td>محسوب البشر حيونه وحشيه وتطلبون الغرب يحترمكم ...</td>\n",
       "      <td>IQ</td>\n",
       "    </tr>\n",
       "    <tr>\n",
       "      <th>2</th>\n",
       "      <td>مبين كلامه خليجي</td>\n",
       "      <td>IQ</td>\n",
       "    </tr>\n",
       "    <tr>\n",
       "      <th>3</th>\n",
       "      <td>يسلملي مرورك وروحك الحلوه</td>\n",
       "      <td>IQ</td>\n",
       "    </tr>\n",
       "    <tr>\n",
       "      <th>4</th>\n",
       "      <td>وين الغيبه اخ محمد</td>\n",
       "      <td>IQ</td>\n",
       "    </tr>\n",
       "  </tbody>\n",
       "</table>\n",
       "</div>\n",
       "      <button class=\"colab-df-convert\" onclick=\"convertToInteractive('df-ce3214bf-eac8-42bf-9c6e-3afc5f6a71b2')\"\n",
       "              title=\"Convert this dataframe to an interactive table.\"\n",
       "              style=\"display:none;\">\n",
       "        \n",
       "  <svg xmlns=\"http://www.w3.org/2000/svg\" height=\"24px\"viewBox=\"0 0 24 24\"\n",
       "       width=\"24px\">\n",
       "    <path d=\"M0 0h24v24H0V0z\" fill=\"none\"/>\n",
       "    <path d=\"M18.56 5.44l.94 2.06.94-2.06 2.06-.94-2.06-.94-.94-2.06-.94 2.06-2.06.94zm-11 1L8.5 8.5l.94-2.06 2.06-.94-2.06-.94L8.5 2.5l-.94 2.06-2.06.94zm10 10l.94 2.06.94-2.06 2.06-.94-2.06-.94-.94-2.06-.94 2.06-2.06.94z\"/><path d=\"M17.41 7.96l-1.37-1.37c-.4-.4-.92-.59-1.43-.59-.52 0-1.04.2-1.43.59L10.3 9.45l-7.72 7.72c-.78.78-.78 2.05 0 2.83L4 21.41c.39.39.9.59 1.41.59.51 0 1.02-.2 1.41-.59l7.78-7.78 2.81-2.81c.8-.78.8-2.07 0-2.86zM5.41 20L4 18.59l7.72-7.72 1.47 1.35L5.41 20z\"/>\n",
       "  </svg>\n",
       "      </button>\n",
       "      \n",
       "  <style>\n",
       "    .colab-df-container {\n",
       "      display:flex;\n",
       "      flex-wrap:wrap;\n",
       "      gap: 12px;\n",
       "    }\n",
       "\n",
       "    .colab-df-convert {\n",
       "      background-color: #E8F0FE;\n",
       "      border: none;\n",
       "      border-radius: 50%;\n",
       "      cursor: pointer;\n",
       "      display: none;\n",
       "      fill: #1967D2;\n",
       "      height: 32px;\n",
       "      padding: 0 0 0 0;\n",
       "      width: 32px;\n",
       "    }\n",
       "\n",
       "    .colab-df-convert:hover {\n",
       "      background-color: #E2EBFA;\n",
       "      box-shadow: 0px 1px 2px rgba(60, 64, 67, 0.3), 0px 1px 3px 1px rgba(60, 64, 67, 0.15);\n",
       "      fill: #174EA6;\n",
       "    }\n",
       "\n",
       "    [theme=dark] .colab-df-convert {\n",
       "      background-color: #3B4455;\n",
       "      fill: #D2E3FC;\n",
       "    }\n",
       "\n",
       "    [theme=dark] .colab-df-convert:hover {\n",
       "      background-color: #434B5C;\n",
       "      box-shadow: 0px 1px 3px 1px rgba(0, 0, 0, 0.15);\n",
       "      filter: drop-shadow(0px 1px 2px rgba(0, 0, 0, 0.3));\n",
       "      fill: #FFFFFF;\n",
       "    }\n",
       "  </style>\n",
       "\n",
       "      <script>\n",
       "        const buttonEl =\n",
       "          document.querySelector('#df-ce3214bf-eac8-42bf-9c6e-3afc5f6a71b2 button.colab-df-convert');\n",
       "        buttonEl.style.display =\n",
       "          google.colab.kernel.accessAllowed ? 'block' : 'none';\n",
       "\n",
       "        async function convertToInteractive(key) {\n",
       "          const element = document.querySelector('#df-ce3214bf-eac8-42bf-9c6e-3afc5f6a71b2');\n",
       "          const dataTable =\n",
       "            await google.colab.kernel.invokeFunction('convertToInteractive',\n",
       "                                                     [key], {});\n",
       "          if (!dataTable) return;\n",
       "\n",
       "          const docLinkHtml = 'Like what you see? Visit the ' +\n",
       "            '<a target=\"_blank\" href=https://colab.research.google.com/notebooks/data_table.ipynb>data table notebook</a>'\n",
       "            + ' to learn more about interactive tables.';\n",
       "          element.innerHTML = '';\n",
       "          dataTable['output_type'] = 'display_data';\n",
       "          await google.colab.output.renderOutput(dataTable, element);\n",
       "          const docLink = document.createElement('div');\n",
       "          docLink.innerHTML = docLinkHtml;\n",
       "          element.appendChild(docLink);\n",
       "        }\n",
       "      </script>\n",
       "    </div>\n",
       "  </div>\n",
       "  "
      ],
      "text/plain": [
       "                                                text dialect\n",
       "0                                بالنهاية ينتفض يغير      IQ\n",
       "1  محسوب البشر حيونه وحشيه وتطلبون الغرب يحترمكم ...      IQ\n",
       "2                                   مبين كلامه خليجي      IQ\n",
       "3                          يسلملي مرورك وروحك الحلوه      IQ\n",
       "4                                 وين الغيبه اخ محمد      IQ"
      ]
     },
     "execution_count": 33,
     "metadata": {},
     "output_type": "execute_result"
    }
   ],
   "source": [
    "FREQWORDS = set([w for (w, wc) in cnt.most_common(25)])\n",
    "def remove_freqwords(text):\n",
    "    \"\"\"custom function to remove the frequent words\"\"\"\n",
    "    return \" \".join([word for word in str(text).split() if word not in FREQWORDS])\n",
    "\n",
    "df[\"text\"] = df[\"text\"].apply(lambda text: remove_freqwords(text))\n",
    "df.head()"
   ]
  },
  {
   "cell_type": "code",
   "execution_count": 34,
   "metadata": {
    "id": "pFiFlyv6y8N2"
   },
   "outputs": [],
   "source": [
    "def arabic(text):\n",
    "    text = tokenize(text, conditions=is_arabicrange, morphs=[strip_tashkeel,strip_tatweel])\n",
    "    return text"
   ]
  },
  {
   "cell_type": "code",
   "execution_count": 35,
   "metadata": {
    "id": "sLdGMcQGzBZy"
   },
   "outputs": [],
   "source": [
    "df['text'] = df['text'].apply(arabic)"
   ]
  },
  {
   "cell_type": "code",
   "execution_count": 36,
   "metadata": {
    "colab": {
     "base_uri": "https://localhost:8080/",
     "height": 424
    },
    "id": "FObli0WtrOGD",
    "outputId": "2e9eb656-7040-4d4e-a817-2ca81c1f14ec"
   },
   "outputs": [
    {
     "data": {
      "text/html": [
       "\n",
       "  <div id=\"df-8adbfaf2-8f3b-4621-8164-dbd1dc5a91fc\">\n",
       "    <div class=\"colab-df-container\">\n",
       "      <div>\n",
       "<style scoped>\n",
       "    .dataframe tbody tr th:only-of-type {\n",
       "        vertical-align: middle;\n",
       "    }\n",
       "\n",
       "    .dataframe tbody tr th {\n",
       "        vertical-align: top;\n",
       "    }\n",
       "\n",
       "    .dataframe thead th {\n",
       "        text-align: right;\n",
       "    }\n",
       "</style>\n",
       "<table border=\"1\" class=\"dataframe\">\n",
       "  <thead>\n",
       "    <tr style=\"text-align: right;\">\n",
       "      <th></th>\n",
       "      <th>text</th>\n",
       "      <th>dialect</th>\n",
       "    </tr>\n",
       "  </thead>\n",
       "  <tbody>\n",
       "    <tr>\n",
       "      <th>0</th>\n",
       "      <td>[بالنهاية, ينتفض, يغير]</td>\n",
       "      <td>IQ</td>\n",
       "    </tr>\n",
       "    <tr>\n",
       "      <th>1</th>\n",
       "      <td>[محسوب, البشر, حيونه, وحشيه, وتطلبون, الغرب, ي...</td>\n",
       "      <td>IQ</td>\n",
       "    </tr>\n",
       "    <tr>\n",
       "      <th>2</th>\n",
       "      <td>[مبين, كلامه, خليجي]</td>\n",
       "      <td>IQ</td>\n",
       "    </tr>\n",
       "    <tr>\n",
       "      <th>3</th>\n",
       "      <td>[يسلملي, مرورك, وروحك, الحلوه]</td>\n",
       "      <td>IQ</td>\n",
       "    </tr>\n",
       "    <tr>\n",
       "      <th>4</th>\n",
       "      <td>[وين, الغيبه, اخ, محمد]</td>\n",
       "      <td>IQ</td>\n",
       "    </tr>\n",
       "    <tr>\n",
       "      <th>...</th>\n",
       "      <td>...</td>\n",
       "      <td>...</td>\n",
       "    </tr>\n",
       "    <tr>\n",
       "      <th>192</th>\n",
       "      <td>[مبسوطين, منك, باسطانا]</td>\n",
       "      <td>BH</td>\n",
       "    </tr>\n",
       "    <tr>\n",
       "      <th>193</th>\n",
       "      <td>[ماينده, ابش, يختي]</td>\n",
       "      <td>BH</td>\n",
       "    </tr>\n",
       "    <tr>\n",
       "      <th>194</th>\n",
       "      <td>[شو, عملنا, حنا, تهربي, منا, احنا, مساكين, ليش...</td>\n",
       "      <td>BH</td>\n",
       "    </tr>\n",
       "    <tr>\n",
       "      <th>195</th>\n",
       "      <td>[يبارك, وبالعافيه]</td>\n",
       "      <td>BH</td>\n",
       "    </tr>\n",
       "    <tr>\n",
       "      <th>196</th>\n",
       "      <td>[السحله, ضيفي, بتطلع, سحليه]</td>\n",
       "      <td>BH</td>\n",
       "    </tr>\n",
       "  </tbody>\n",
       "</table>\n",
       "<p>458197 rows × 2 columns</p>\n",
       "</div>\n",
       "      <button class=\"colab-df-convert\" onclick=\"convertToInteractive('df-8adbfaf2-8f3b-4621-8164-dbd1dc5a91fc')\"\n",
       "              title=\"Convert this dataframe to an interactive table.\"\n",
       "              style=\"display:none;\">\n",
       "        \n",
       "  <svg xmlns=\"http://www.w3.org/2000/svg\" height=\"24px\"viewBox=\"0 0 24 24\"\n",
       "       width=\"24px\">\n",
       "    <path d=\"M0 0h24v24H0V0z\" fill=\"none\"/>\n",
       "    <path d=\"M18.56 5.44l.94 2.06.94-2.06 2.06-.94-2.06-.94-.94-2.06-.94 2.06-2.06.94zm-11 1L8.5 8.5l.94-2.06 2.06-.94-2.06-.94L8.5 2.5l-.94 2.06-2.06.94zm10 10l.94 2.06.94-2.06 2.06-.94-2.06-.94-.94-2.06-.94 2.06-2.06.94z\"/><path d=\"M17.41 7.96l-1.37-1.37c-.4-.4-.92-.59-1.43-.59-.52 0-1.04.2-1.43.59L10.3 9.45l-7.72 7.72c-.78.78-.78 2.05 0 2.83L4 21.41c.39.39.9.59 1.41.59.51 0 1.02-.2 1.41-.59l7.78-7.78 2.81-2.81c.8-.78.8-2.07 0-2.86zM5.41 20L4 18.59l7.72-7.72 1.47 1.35L5.41 20z\"/>\n",
       "  </svg>\n",
       "      </button>\n",
       "      \n",
       "  <style>\n",
       "    .colab-df-container {\n",
       "      display:flex;\n",
       "      flex-wrap:wrap;\n",
       "      gap: 12px;\n",
       "    }\n",
       "\n",
       "    .colab-df-convert {\n",
       "      background-color: #E8F0FE;\n",
       "      border: none;\n",
       "      border-radius: 50%;\n",
       "      cursor: pointer;\n",
       "      display: none;\n",
       "      fill: #1967D2;\n",
       "      height: 32px;\n",
       "      padding: 0 0 0 0;\n",
       "      width: 32px;\n",
       "    }\n",
       "\n",
       "    .colab-df-convert:hover {\n",
       "      background-color: #E2EBFA;\n",
       "      box-shadow: 0px 1px 2px rgba(60, 64, 67, 0.3), 0px 1px 3px 1px rgba(60, 64, 67, 0.15);\n",
       "      fill: #174EA6;\n",
       "    }\n",
       "\n",
       "    [theme=dark] .colab-df-convert {\n",
       "      background-color: #3B4455;\n",
       "      fill: #D2E3FC;\n",
       "    }\n",
       "\n",
       "    [theme=dark] .colab-df-convert:hover {\n",
       "      background-color: #434B5C;\n",
       "      box-shadow: 0px 1px 3px 1px rgba(0, 0, 0, 0.15);\n",
       "      filter: drop-shadow(0px 1px 2px rgba(0, 0, 0, 0.3));\n",
       "      fill: #FFFFFF;\n",
       "    }\n",
       "  </style>\n",
       "\n",
       "      <script>\n",
       "        const buttonEl =\n",
       "          document.querySelector('#df-8adbfaf2-8f3b-4621-8164-dbd1dc5a91fc button.colab-df-convert');\n",
       "        buttonEl.style.display =\n",
       "          google.colab.kernel.accessAllowed ? 'block' : 'none';\n",
       "\n",
       "        async function convertToInteractive(key) {\n",
       "          const element = document.querySelector('#df-8adbfaf2-8f3b-4621-8164-dbd1dc5a91fc');\n",
       "          const dataTable =\n",
       "            await google.colab.kernel.invokeFunction('convertToInteractive',\n",
       "                                                     [key], {});\n",
       "          if (!dataTable) return;\n",
       "\n",
       "          const docLinkHtml = 'Like what you see? Visit the ' +\n",
       "            '<a target=\"_blank\" href=https://colab.research.google.com/notebooks/data_table.ipynb>data table notebook</a>'\n",
       "            + ' to learn more about interactive tables.';\n",
       "          element.innerHTML = '';\n",
       "          dataTable['output_type'] = 'display_data';\n",
       "          await google.colab.output.renderOutput(dataTable, element);\n",
       "          const docLink = document.createElement('div');\n",
       "          docLink.innerHTML = docLinkHtml;\n",
       "          element.appendChild(docLink);\n",
       "        }\n",
       "      </script>\n",
       "    </div>\n",
       "  </div>\n",
       "  "
      ],
      "text/plain": [
       "                                                  text dialect\n",
       "0                              [بالنهاية, ينتفض, يغير]      IQ\n",
       "1    [محسوب, البشر, حيونه, وحشيه, وتطلبون, الغرب, ي...      IQ\n",
       "2                                 [مبين, كلامه, خليجي]      IQ\n",
       "3                       [يسلملي, مرورك, وروحك, الحلوه]      IQ\n",
       "4                              [وين, الغيبه, اخ, محمد]      IQ\n",
       "..                                                 ...     ...\n",
       "192                            [مبسوطين, منك, باسطانا]      BH\n",
       "193                                [ماينده, ابش, يختي]      BH\n",
       "194  [شو, عملنا, حنا, تهربي, منا, احنا, مساكين, ليش...      BH\n",
       "195                                 [يبارك, وبالعافيه]      BH\n",
       "196                       [السحله, ضيفي, بتطلع, سحليه]      BH\n",
       "\n",
       "[458197 rows x 2 columns]"
      ]
     },
     "execution_count": 36,
     "metadata": {},
     "output_type": "execute_result"
    }
   ],
   "source": [
    "df"
   ]
  },
  {
   "cell_type": "code",
   "execution_count": 37,
   "metadata": {
    "id": "oiz-dTFBrVxm"
   },
   "outputs": [],
   "source": [
    "def Detokenizer(text):\n",
    "    text = TreebankWordDetokenizer().detokenize(text)\n",
    "    return text"
   ]
  },
  {
   "cell_type": "code",
   "execution_count": 38,
   "metadata": {
    "id": "NkUHicNAp27B"
   },
   "outputs": [],
   "source": [
    "df['text'] = df['text'].apply(Detokenizer)"
   ]
  },
  {
   "cell_type": "code",
   "execution_count": 39,
   "metadata": {
    "id": "ACTpxqluGloQ"
   },
   "outputs": [],
   "source": [
    "y = df['dialect']"
   ]
  },
  {
   "cell_type": "markdown",
   "metadata": {
    "id": "Au8xVrKJweph"
   },
   "source": [
    "> Vectorizer [TF/IDF]"
   ]
  },
  {
   "cell_type": "code",
   "execution_count": 40,
   "metadata": {
    "colab": {
     "base_uri": "https://localhost:8080/"
    },
    "id": "q226I8p6yWoL",
    "outputId": "1d3bdbe6-ad20-411e-fa17-28d0c489cb2c"
   },
   "outputs": [
    {
     "name": "stdout",
     "output_type": "stream",
     "text": [
      "  (0, 9819)\t0.675698170395019\n",
      "  (0, 2721)\t0.7371783926057681\n",
      "  (1, 1760)\t0.579059432143673\n",
      "  (1, 889)\t0.49413974016474366\n",
      "  (1, 7505)\t0.6484721206307692\n",
      "  (2, 4602)\t0.6254042152811486\n",
      "  (2, 6845)\t0.5303011769613248\n",
      "  (2, 7403)\t0.5724073979448592\n",
      "  (3, 1171)\t0.6462791622238495\n",
      "  (3, 9685)\t0.7631010709435804\n",
      "  (4, 7516)\t0.5531202747305624\n",
      "  (4, 180)\t0.6962110420189347\n",
      "  (4, 9308)\t0.4575457864005484\n",
      "  (5, 2117)\t0.27708144712332017\n",
      "  (5, 1623)\t0.25183278120766417\n",
      "  (5, 36)\t0.17541994019458462\n",
      "  (5, 1678)\t0.20409498360320363\n",
      "  (5, 7686)\t0.2214416032053061\n",
      "  (5, 4579)\t0.2247876361013865\n",
      "  (5, 6189)\t0.20094083777005267\n",
      "  (5, 9632)\t0.24264559475227013\n",
      "  (5, 4959)\t0.2693121794620969\n",
      "  (5, 2589)\t0.21064470307717373\n",
      "  (5, 2080)\t0.19594218751196932\n",
      "  (5, 6457)\t0.26628797297063567\n",
      "  :\t:\n",
      "  (458188, 9487)\t0.43335934405566906\n",
      "  (458188, 2589)\t0.33837926658889067\n",
      "  (458189, 7434)\t1.0\n",
      "  (458190, 6500)\t0.5099141906250313\n",
      "  (458190, 6230)\t0.4906749194840578\n",
      "  (458190, 246)\t0.461852867527371\n",
      "  (458190, 4612)\t0.5347126053734637\n",
      "  (458191, 5631)\t0.5491221378332843\n",
      "  (458191, 9468)\t0.5496809099811315\n",
      "  (458191, 7372)\t0.6295361585673365\n",
      "  (458192, 7398)\t0.828487993993804\n",
      "  (458192, 7964)\t0.5600068247870936\n",
      "  (458193, 9549)\t1.0\n",
      "  (458194, 2807)\t0.4423222104358619\n",
      "  (458194, 7633)\t0.37341973861740535\n",
      "  (458194, 8519)\t0.24805755522623926\n",
      "  (458194, 6150)\t0.41407859011425685\n",
      "  (458194, 4426)\t0.30140342488456867\n",
      "  (458194, 6517)\t0.30209470559644086\n",
      "  (458194, 174)\t0.22709952905888273\n",
      "  (458194, 5525)\t0.22115452188077286\n",
      "  (458194, 7202)\t0.2264946780491249\n",
      "  (458194, 7933)\t0.3130919001778993\n",
      "  (458195, 9417)\t1.0\n",
      "  (458196, 2799)\t1.0\n"
     ]
    }
   ],
   "source": [
    "word_vectorizer = TfidfVectorizer(\n",
    "    sublinear_tf=True,\n",
    "    strip_accents='unicode',\n",
    "    analyzer='word',\n",
    "    ngram_range=(1, 1),\n",
    "    max_features =10000)\n",
    "\n",
    "unigramdataGet= word_vectorizer.fit_transform(df['text'].astype('str'))\n",
    "print(unigramdataGet)"
   ]
  },
  {
   "cell_type": "markdown",
   "metadata": {
    "id": "bZfiWRqHv2mQ"
   },
   "source": [
    "> Encoding categorical data"
   ]
  },
  {
   "cell_type": "code",
   "execution_count": 41,
   "metadata": {
    "id": "2jSm_MfvXE7d"
   },
   "outputs": [],
   "source": [
    "le = LabelEncoder()\n",
    "y = le.fit_transform(y)"
   ]
  },
  {
   "cell_type": "code",
   "execution_count": 42,
   "metadata": {
    "id": "a_9yLeEfyWoM"
   },
   "outputs": [],
   "source": [
    "X=unigramdataGet"
   ]
  },
  {
   "cell_type": "code",
   "execution_count": 43,
   "metadata": {
    "colab": {
     "base_uri": "https://localhost:8080/"
    },
    "id": "03jULoN1yWoM",
    "outputId": "776a85f6-79bb-43f5-a1d7-52906d027a14"
   },
   "outputs": [
    {
     "name": "stdout",
     "output_type": "stream",
     "text": [
      "X_Train\n",
      "  (0, 6948)\t1.0\n",
      "  (1, 4339)\t0.4731994117259602\n",
      "  (1, 8105)\t0.5235237318514677\n",
      "  (1, 2252)\t0.43048081551599654\n",
      "  (1, 5546)\t0.43588738990867015\n",
      "  (1, 6519)\t0.3559405423969114\n",
      "  (2, 9734)\t0.44965268860607666\n",
      "  (2, 3954)\t0.4519882237093354\n",
      "  (2, 7323)\t0.4381062895128403\n",
      "  (2, 8832)\t0.30730810216366494\n",
      "  (2, 6136)\t0.3193235420833846\n",
      "  (2, 8268)\t0.2949184288946934\n",
      "  (2, 7711)\t0.3438012659384356\n",
      "****************************\n",
      "X_test\n",
      "  (0, 9696)\t0.6876415150342708\n",
      "  (0, 8428)\t0.7260503748372924\n",
      "  (1, 3718)\t0.3414738243027814\n",
      "  (1, 2664)\t0.337664928394079\n",
      "  (1, 3804)\t0.33488529129586375\n",
      "  (1, 9468)\t0.2629241607790076\n",
      "  (1, 9252)\t0.28674752925223906\n",
      "  (1, 9705)\t0.47560412760689696\n",
      "  (1, 9859)\t0.20669414602648012\n",
      "  (1, 7966)\t0.2095031464504915\n",
      "  (1, 524)\t0.290026448930847\n",
      "  (1, 6185)\t0.3300726277931926\n",
      "  (2, 6237)\t0.3424849551313931\n",
      "  (2, 666)\t0.37060952423470767\n",
      "  (2, 382)\t0.37967115185791084\n",
      "  (2, 610)\t0.24371606267999665\n",
      "  (2, 1743)\t0.27850537829131344\n",
      "  (2, 754)\t0.33363469318998457\n",
      "  (2, 8900)\t0.3062445830455954\n",
      "  (2, 6235)\t0.2941476640939182\n",
      "  (2, 1591)\t0.2821924658982511\n",
      "  (2, 2290)\t0.3049367119751917\n",
      "(91640, 10000)\n",
      "****************************\n",
      "Y_train\n",
      "[ 0  6 13]\n",
      "****************************\n",
      "Y_test\n",
      "[4 6 1]\n"
     ]
    }
   ],
   "source": [
    "from sklearn.model_selection import train_test_split\n",
    "X_train, X_test, y_train, y_test = train_test_split(X,y,test_size = 0.2,random_state=22)\n",
    "print('X_Train')\n",
    "print(X_train[:3,:])\n",
    "print('****************************')\n",
    "print('X_test')\n",
    "print(X_test[:3,:])\n",
    "print(X_test.shape)\n",
    "print('****************************')\n",
    "print('Y_train')\n",
    "print(y_train[:3,])\n",
    "print('****************************')\n",
    "print('Y_test')\n",
    "print(y_test[:3,])"
   ]
  },
  {
   "cell_type": "code",
   "execution_count": 44,
   "metadata": {
    "colab": {
     "base_uri": "https://localhost:8080/"
    },
    "id": "pXO27FnoyWoN",
    "outputId": "27800fde-4b4a-4513-f2a8-456502519e64"
   },
   "outputs": [
    {
     "name": "stdout",
     "output_type": "stream",
     "text": [
      "Naive Bayse Train Score 0.45366477791994153\n"
     ]
    }
   ],
   "source": [
    "from sklearn.naive_bayes import ComplementNB\n",
    "NB=ComplementNB()\n",
    "NB.fit(X_train , y_train)\n",
    "print('Naive Bayse Train Score',NB.score(X_train,y_train))"
   ]
  },
  {
   "cell_type": "code",
   "execution_count": 45,
   "metadata": {
    "colab": {
     "base_uri": "https://localhost:8080/"
    },
    "id": "pjAV9oEnyWoN",
    "outputId": "0f0a192a-d885-4811-ad4d-4dbdee38685c"
   },
   "outputs": [
    {
     "name": "stdout",
     "output_type": "stream",
     "text": [
      "Naive Bayse Test Score 0.5145242252291575\n"
     ]
    }
   ],
   "source": [
    "NB.fit(X_test,y_test)\n",
    "print('Naive Bayse Test Score',NB.score(X_test,y_test))"
   ]
  },
  {
   "cell_type": "code",
   "execution_count": 46,
   "metadata": {
    "colab": {
     "base_uri": "https://localhost:8080/"
    },
    "id": "ZO57xzKCyWoP",
    "outputId": "7a8df0f6-88bf-4dfe-ee31-0dfe8d02ee00"
   },
   "outputs": [
    {
     "name": "stdout",
     "output_type": "stream",
     "text": [
      "Y Test \n",
      " [ 4  6  1  8  6 17  5  8 11 11]\n",
      "Predicted Value is :\n",
      "  [ 0  6  1  6 13  1  5 13 11  5]\n",
      "Prediction Probabilities Value is : \n",
      " [[0 0 0 0 0 0 0 0 0 0 0 0 0 0 0 0 0 0]\n",
      " [0 0 0 0 0 0 0 0 0 0 0 0 0 0 0 0 0 0]\n",
      " [0 0 0 0 0 0 0 0 0 0 0 0 0 0 0 0 0 0]\n",
      " [0 0 0 0 0 0 0 0 0 0 0 0 0 0 0 0 0 0]\n",
      " [0 0 0 0 0 0 0 0 0 0 0 0 0 0 0 0 0 0]\n",
      " [0 0 0 0 0 0 0 0 0 0 0 0 0 0 0 0 0 0]\n",
      " [0 0 0 0 0 0 0 0 0 0 0 0 0 0 0 0 0 0]\n",
      " [0 0 0 0 0 0 0 0 0 0 0 0 0 0 0 0 0 0]\n",
      " [0 0 0 0 0 0 0 0 0 0 0 0 0 0 0 0 0 0]\n",
      " [0 0 0 0 0 0 0 0 0 0 0 0 0 0 0 0 0 0]]\n"
     ]
    }
   ],
   "source": [
    "#Calculating Prediction\n",
    "y_pred_NB = NB.predict(X_test)\n",
    "y_pred_prob = NB.predict_proba(X_test)\n",
    "y_pred_prob=y_pred_prob.astype(int)\n",
    "print('Y Test \\n' ,y_test[:10,])\n",
    "print('Predicted Value is :\\n ' , y_pred_NB[:10,])\n",
    "print('Prediction Probabilities Value is : \\n' , y_pred_prob[:10,:])"
   ]
  },
  {
   "cell_type": "code",
   "execution_count": 47,
   "metadata": {
    "colab": {
     "base_uri": "https://localhost:8080/"
    },
    "id": "FNZYKR_2yWoP",
    "outputId": "821316c9-ddec-4f4d-9aaa-d4a947aebe8c"
   },
   "outputs": [
    {
     "name": "stdout",
     "output_type": "stream",
     "text": [
      "0.5145242252291575\n"
     ]
    }
   ],
   "source": [
    "from sklearn.metrics import accuracy_score\n",
    "accuracy_NB=accuracy_score(y_test,y_pred_NB)\n",
    "print(accuracy_NB)"
   ]
  },
  {
   "cell_type": "code",
   "execution_count": 48,
   "metadata": {
    "colab": {
     "base_uri": "https://localhost:8080/"
    },
    "id": "IGbwnj7wyWoQ",
    "outputId": "7a7e83be-0c4f-43b3-db63-012fdfb60fa9"
   },
   "outputs": [
    {
     "name": "stdout",
     "output_type": "stream",
     "text": [
      "[[2180  234   81  362   75   81  737  112  177   32  132  163  529  235\n",
      "    36   30   15   27]\n",
      " [ 364 1711   70  317  151   82  979  118  256   45  118  211  515  268\n",
      "    48   47   21   24]\n",
      " [ 108   52 1508  385   39   39   87  122  237  198   37  156   65   90\n",
      "    27   22   41   11]\n",
      " [ 208   85   56 9888   45   53  155  124  223   46   50  294   98   82\n",
      "    97   39   25   12]\n",
      " [ 157  106   46  209 1501   53  375   85  105   18   63  130  131   84\n",
      "    25   31   16   14]\n",
      " [ 184  128   90  586   84 1530  286  496  164   48   95 1376  193  167\n",
      "    52   73   22   15]\n",
      " [ 405  292   79  463  177  129 5097  129  272   41  103  226  529  345\n",
      "    34   53   27   25]\n",
      " [ 141   43   51  393   37   96  101 3597  110   27   34  496   84   60\n",
      "    30   70   22   13]\n",
      " [ 271  121  178  731   39   76  230  167 4397  118   80  271  171  152\n",
      "    62   46   65   13]\n",
      " [  75   33  128  265   17   17   57   43  120 1311   17   92   50   55\n",
      "    30   15   29    5]\n",
      " [ 332  200   79  288   73   87  476  114  212   45 1174  215  280  260\n",
      "    31   31   16   15]\n",
      " [ 228  122  105 1337   89  302  235  612  262   80   68 4704  162  157\n",
      "    73  100   23   12]\n",
      " [ 367  258   52  295   66   64  839   86  186   29  105  154 3292  316\n",
      "    30   24   10   25]\n",
      " [ 333  245   83  356   68   92  664   98  241   34  106  213  486 2304\n",
      "    45   39   14   21]\n",
      " [  88   35   26  841   20   31   88   73   87   18   19  125   94   62\n",
      "  1174   15   14    8]\n",
      " [  95   62   53  262   38   88  124  835  137   30   37  531   73   85\n",
      "    22  729   24   12]\n",
      " [  61   39   81  323   18   18   55   66  209   57   14   75   51   65\n",
      "    21   13  685    4]\n",
      " [ 120  103   29  202   40   56  205   67  111   20   48  163  214  180\n",
      "    23   24   14  369]]\n"
     ]
    }
   ],
   "source": [
    "from sklearn.metrics import confusion_matrix\n",
    "cm_NB=confusion_matrix(y_test,y_pred_NB)\n",
    "print(cm_NB)"
   ]
  },
  {
   "cell_type": "code",
   "execution_count": 49,
   "metadata": {
    "colab": {
     "base_uri": "https://localhost:8080/"
    },
    "id": "KU85391HxmSa",
    "outputId": "58690366-e144-476b-c411-63df34a6bab5"
   },
   "outputs": [
    {
     "name": "stdout",
     "output_type": "stream",
     "text": [
      "              precision    recall  f1-score   support\n",
      "\n",
      "           0       0.38      0.42      0.40      5238\n",
      "           1       0.44      0.32      0.37      5345\n",
      "           2       0.54      0.47      0.50      3224\n",
      "           3       0.56      0.85      0.68     11580\n",
      "           4       0.58      0.48      0.52      3149\n",
      "           5       0.53      0.27      0.36      5589\n",
      "           6       0.47      0.60      0.53      8426\n",
      "           7       0.52      0.67      0.58      5405\n",
      "           8       0.59      0.61      0.60      7188\n",
      "           9       0.60      0.56      0.58      2359\n",
      "          10       0.51      0.30      0.38      3928\n",
      "          11       0.49      0.54      0.52      8671\n",
      "          12       0.47      0.53      0.50      6198\n",
      "          13       0.46      0.42      0.44      5442\n",
      "          14       0.63      0.42      0.50      2818\n",
      "          15       0.52      0.23      0.31      3237\n",
      "          16       0.63      0.37      0.47      1855\n",
      "          17       0.59      0.19      0.28      1988\n",
      "\n",
      "    accuracy                           0.51     91640\n",
      "   macro avg       0.53      0.46      0.47     91640\n",
      "weighted avg       0.52      0.51      0.50     91640\n",
      "\n"
     ]
    }
   ],
   "source": [
    "from sklearn.metrics import classification_report\n",
    "cr_NB=classification_report(y_test,y_pred_NB)\n",
    "print(cr_NB)"
   ]
  },
  {
   "cell_type": "code",
   "execution_count": 50,
   "metadata": {
    "id": "YOQBoDw60cQr"
   },
   "outputs": [],
   "source": [
    "with open('NB_classifier', 'wb') as picklefile:\n",
    "  pickle.dump(NB,picklefile)"
   ]
  },
  {
   "cell_type": "code",
   "execution_count": 51,
   "metadata": {
    "colab": {
     "base_uri": "https://localhost:8080/"
    },
    "id": "09P2YZ4J56pz",
    "outputId": "fdc7f7ad-a1a1-4f3a-dc40-d5e6aaa59ce8"
   },
   "outputs": [
    {
     "name": "stdout",
     "output_type": "stream",
     "text": [
      "LinearSVC Train Score 0.5195099261506396\n"
     ]
    }
   ],
   "source": [
    "from sklearn.svm import LinearSVC\n",
    "SVC=LinearSVC()\n",
    "SVC.fit(X_train , y_train)\n",
    "print('LinearSVC Train Score',SVC.score(X_train,y_train))"
   ]
  },
  {
   "cell_type": "code",
   "execution_count": 52,
   "metadata": {
    "colab": {
     "base_uri": "https://localhost:8080/"
    },
    "id": "RJXQ2UeFyWoR",
    "outputId": "399aaaa8-001d-4f03-f16e-138c878529ca"
   },
   "outputs": [
    {
     "name": "stdout",
     "output_type": "stream",
     "text": [
      "Test Score 0.6546268005237887\n"
     ]
    }
   ],
   "source": [
    "SVC.fit(X_test,y_test)\n",
    "print('Test Score',SVC.score(X_test,y_test))"
   ]
  },
  {
   "cell_type": "code",
   "execution_count": 53,
   "metadata": {
    "colab": {
     "base_uri": "https://localhost:8080/"
    },
    "id": "-jfVJY2FyWoR",
    "outputId": "56fd0cde-5e13-4eb2-d760-fa443d86fc56"
   },
   "outputs": [
    {
     "name": "stdout",
     "output_type": "stream",
     "text": [
      "Y Test \n",
      " [ 4  6  1  8  6 17  5  8 11 11]\n",
      "Predicted Value is :\n",
      "  [13  6  0  8  6 17  5  8 11 11]\n"
     ]
    }
   ],
   "source": [
    "y_pred_SVC = SVC.predict(X_test)\n",
    "print('Y Test \\n' ,y_test[:10,])\n",
    "print('Predicted Value is :\\n ' , y_pred_SVC[:10,])"
   ]
  },
  {
   "cell_type": "code",
   "execution_count": 54,
   "metadata": {
    "colab": {
     "base_uri": "https://localhost:8080/"
    },
    "id": "pgEzeUYayWoS",
    "outputId": "fcd75040-4917-4b04-aab0-e03594bf163d"
   },
   "outputs": [
    {
     "name": "stdout",
     "output_type": "stream",
     "text": [
      "0.6546268005237887\n"
     ]
    }
   ],
   "source": [
    "accuracy_SVC=accuracy_score(y_test,y_pred_SVC)\n",
    "print(accuracy_SVC)"
   ]
  },
  {
   "cell_type": "code",
   "execution_count": 55,
   "metadata": {
    "colab": {
     "base_uri": "https://localhost:8080/"
    },
    "id": "YuSPh74SyWoS",
    "outputId": "33237a03-2ffa-4296-8081-94ce88729463"
   },
   "outputs": [
    {
     "name": "stdout",
     "output_type": "stream",
     "text": [
      "[[ 2986   230    41   239    52    74   493    52   209    13   136   138\n",
      "    308   194    20    21     9    23]\n",
      " [  239  2631    39   186   102    71   755    61   277    19   139   168\n",
      "    330   234    26    32    12    24]\n",
      " [   37    43  2083   227    26    43    79    62   246    58    29   123\n",
      "     28    69     9    28    24    10]\n",
      " [   48    63    37 10260    35    62   124    64   315    19    38   274\n",
      "     54    52    68    30    17    20]\n",
      " [   73    80    26   107  2090    57   234    36   126     9    43    94\n",
      "     60    61    15    19     8    11]\n",
      " [   97   115    47   353    61  2764   209   249   222    24    95   947\n",
      "    118   128    36    87    14    23]\n",
      " [  251   303    50   272    99   118  5876    67   324    23   122   192\n",
      "    334   312    11    38     6    28]\n",
      " [   43    31    36   220    24   131    70  4005   170    14    38   379\n",
      "     50    48    24   101    11    10]\n",
      " [   92   104    93   391    42    73   182    96  5420    43    71   219\n",
      "     96   130    41    40    33    22]\n",
      " [   20    25    77   145    13    19    40    24   134  1652    18    72\n",
      "     30    43    16     8    15     8]\n",
      " [  205   164    46   167    55    85   316    48   258    13  1967   128\n",
      "    186   205    17    30     6    32]\n",
      " [  120   104    56   769    68   437   191   319   333    36    91  5675\n",
      "    111   132    55   127    25    22]\n",
      " [  267   241    33   180    58    78   596    49   225     7   116   130\n",
      "   3828   304    22    15    11    38]\n",
      " [  178   189    43   198    62    96   473    47   307    18   125   161\n",
      "    263  3189    28    27     9    29]\n",
      " [   28    22    16   386     9    32    55    32   125     6    20    92\n",
      "     42    48  1867    21    10     7]\n",
      " [   45    59    30   152    25   114    72   389   151     9    30   363\n",
      "     39    71    16  1649    11    12]\n",
      " [   22    22    43   196    13    15    44    38   136    18    13    58\n",
      "     25    43    13    13  1138     5]\n",
      " [   71    75    24   108    25    60   133    32   112     7    44   110\n",
      "    113   128    11    17     8   910]]\n"
     ]
    }
   ],
   "source": [
    "cm_SVC=confusion_matrix(y_test,y_pred_SVC)\n",
    "print(cm_SVC)"
   ]
  },
  {
   "cell_type": "code",
   "execution_count": 56,
   "metadata": {
    "colab": {
     "base_uri": "https://localhost:8080/"
    },
    "id": "jdkz7aVpyWoS",
    "outputId": "d5437bac-a187-432d-89a0-6512433c5a82"
   },
   "outputs": [
    {
     "name": "stdout",
     "output_type": "stream",
     "text": [
      "              precision    recall  f1-score   support\n",
      "\n",
      "           0       0.62      0.57      0.59      5238\n",
      "           1       0.58      0.49      0.53      5345\n",
      "           2       0.74      0.65      0.69      3224\n",
      "           3       0.70      0.89      0.79     11580\n",
      "           4       0.73      0.66      0.70      3149\n",
      "           5       0.64      0.49      0.56      5589\n",
      "           6       0.59      0.70      0.64      8426\n",
      "           7       0.71      0.74      0.72      5405\n",
      "           8       0.60      0.75      0.67      7188\n",
      "           9       0.83      0.70      0.76      2359\n",
      "          10       0.63      0.50      0.56      3928\n",
      "          11       0.61      0.65      0.63      8671\n",
      "          12       0.64      0.62      0.63      6198\n",
      "          13       0.59      0.59      0.59      5442\n",
      "          14       0.81      0.66      0.73      2818\n",
      "          15       0.72      0.51      0.60      3237\n",
      "          16       0.83      0.61      0.71      1855\n",
      "          17       0.74      0.46      0.56      1988\n",
      "\n",
      "    accuracy                           0.65     91640\n",
      "   macro avg       0.68      0.62      0.65     91640\n",
      "weighted avg       0.66      0.65      0.65     91640\n",
      "\n"
     ]
    }
   ],
   "source": [
    "cr_SVC=classification_report(y_test,y_pred_SVC)\n",
    "print(cr_SVC)"
   ]
  },
  {
   "cell_type": "code",
   "execution_count": 57,
   "metadata": {
    "id": "tpzQimd9aIzv"
   },
   "outputs": [],
   "source": [
    "with open('SVC_classifier', 'wb') as picklefile:\n",
    "  pickle.dump(SVC,picklefile)"
   ]
  },
  {
   "cell_type": "code",
   "execution_count": 58,
   "metadata": {
    "colab": {
     "base_uri": "https://localhost:8080/",
     "height": 112
    },
    "id": "NjM2MlGD09Xy",
    "outputId": "009ffc40-88a6-4e13-ab90-58c927733595"
   },
   "outputs": [
    {
     "data": {
      "text/html": [
       "\n",
       "  <div id=\"df-d2377366-a346-4bcc-99f6-c6b525a0bf01\">\n",
       "    <div class=\"colab-df-container\">\n",
       "      <div>\n",
       "<style scoped>\n",
       "    .dataframe tbody tr th:only-of-type {\n",
       "        vertical-align: middle;\n",
       "    }\n",
       "\n",
       "    .dataframe tbody tr th {\n",
       "        vertical-align: top;\n",
       "    }\n",
       "\n",
       "    .dataframe thead th {\n",
       "        text-align: right;\n",
       "    }\n",
       "</style>\n",
       "<table border=\"1\" class=\"dataframe\">\n",
       "  <thead>\n",
       "    <tr style=\"text-align: right;\">\n",
       "      <th></th>\n",
       "      <th>Model</th>\n",
       "      <th>Score</th>\n",
       "    </tr>\n",
       "  </thead>\n",
       "  <tbody>\n",
       "    <tr>\n",
       "      <th>0</th>\n",
       "      <td>Support Vector Machines</td>\n",
       "      <td>0.654627</td>\n",
       "    </tr>\n",
       "    <tr>\n",
       "      <th>1</th>\n",
       "      <td>Naive Bayes</td>\n",
       "      <td>0.514524</td>\n",
       "    </tr>\n",
       "  </tbody>\n",
       "</table>\n",
       "</div>\n",
       "      <button class=\"colab-df-convert\" onclick=\"convertToInteractive('df-d2377366-a346-4bcc-99f6-c6b525a0bf01')\"\n",
       "              title=\"Convert this dataframe to an interactive table.\"\n",
       "              style=\"display:none;\">\n",
       "        \n",
       "  <svg xmlns=\"http://www.w3.org/2000/svg\" height=\"24px\"viewBox=\"0 0 24 24\"\n",
       "       width=\"24px\">\n",
       "    <path d=\"M0 0h24v24H0V0z\" fill=\"none\"/>\n",
       "    <path d=\"M18.56 5.44l.94 2.06.94-2.06 2.06-.94-2.06-.94-.94-2.06-.94 2.06-2.06.94zm-11 1L8.5 8.5l.94-2.06 2.06-.94-2.06-.94L8.5 2.5l-.94 2.06-2.06.94zm10 10l.94 2.06.94-2.06 2.06-.94-2.06-.94-.94-2.06-.94 2.06-2.06.94z\"/><path d=\"M17.41 7.96l-1.37-1.37c-.4-.4-.92-.59-1.43-.59-.52 0-1.04.2-1.43.59L10.3 9.45l-7.72 7.72c-.78.78-.78 2.05 0 2.83L4 21.41c.39.39.9.59 1.41.59.51 0 1.02-.2 1.41-.59l7.78-7.78 2.81-2.81c.8-.78.8-2.07 0-2.86zM5.41 20L4 18.59l7.72-7.72 1.47 1.35L5.41 20z\"/>\n",
       "  </svg>\n",
       "      </button>\n",
       "      \n",
       "  <style>\n",
       "    .colab-df-container {\n",
       "      display:flex;\n",
       "      flex-wrap:wrap;\n",
       "      gap: 12px;\n",
       "    }\n",
       "\n",
       "    .colab-df-convert {\n",
       "      background-color: #E8F0FE;\n",
       "      border: none;\n",
       "      border-radius: 50%;\n",
       "      cursor: pointer;\n",
       "      display: none;\n",
       "      fill: #1967D2;\n",
       "      height: 32px;\n",
       "      padding: 0 0 0 0;\n",
       "      width: 32px;\n",
       "    }\n",
       "\n",
       "    .colab-df-convert:hover {\n",
       "      background-color: #E2EBFA;\n",
       "      box-shadow: 0px 1px 2px rgba(60, 64, 67, 0.3), 0px 1px 3px 1px rgba(60, 64, 67, 0.15);\n",
       "      fill: #174EA6;\n",
       "    }\n",
       "\n",
       "    [theme=dark] .colab-df-convert {\n",
       "      background-color: #3B4455;\n",
       "      fill: #D2E3FC;\n",
       "    }\n",
       "\n",
       "    [theme=dark] .colab-df-convert:hover {\n",
       "      background-color: #434B5C;\n",
       "      box-shadow: 0px 1px 3px 1px rgba(0, 0, 0, 0.15);\n",
       "      filter: drop-shadow(0px 1px 2px rgba(0, 0, 0, 0.3));\n",
       "      fill: #FFFFFF;\n",
       "    }\n",
       "  </style>\n",
       "\n",
       "      <script>\n",
       "        const buttonEl =\n",
       "          document.querySelector('#df-d2377366-a346-4bcc-99f6-c6b525a0bf01 button.colab-df-convert');\n",
       "        buttonEl.style.display =\n",
       "          google.colab.kernel.accessAllowed ? 'block' : 'none';\n",
       "\n",
       "        async function convertToInteractive(key) {\n",
       "          const element = document.querySelector('#df-d2377366-a346-4bcc-99f6-c6b525a0bf01');\n",
       "          const dataTable =\n",
       "            await google.colab.kernel.invokeFunction('convertToInteractive',\n",
       "                                                     [key], {});\n",
       "          if (!dataTable) return;\n",
       "\n",
       "          const docLinkHtml = 'Like what you see? Visit the ' +\n",
       "            '<a target=\"_blank\" href=https://colab.research.google.com/notebooks/data_table.ipynb>data table notebook</a>'\n",
       "            + ' to learn more about interactive tables.';\n",
       "          element.innerHTML = '';\n",
       "          dataTable['output_type'] = 'display_data';\n",
       "          await google.colab.output.renderOutput(dataTable, element);\n",
       "          const docLink = document.createElement('div');\n",
       "          docLink.innerHTML = docLinkHtml;\n",
       "          element.appendChild(docLink);\n",
       "        }\n",
       "      </script>\n",
       "    </div>\n",
       "  </div>\n",
       "  "
      ],
      "text/plain": [
       "                     Model     Score\n",
       "0  Support Vector Machines  0.654627\n",
       "1              Naive Bayes  0.514524"
      ]
     },
     "execution_count": 58,
     "metadata": {},
     "output_type": "execute_result"
    }
   ],
   "source": [
    "models = pd.DataFrame({\n",
    "    'Model': ['Support Vector Machines', 'Naive Bayes'],\n",
    "    'Score': [accuracy_SVC, accuracy_NB]})\n",
    "models.sort_values(by='Score', ascending=False)"
   ]
  }
 ],
 "metadata": {
  "colab": {
   "collapsed_sections": [],
   "name": "Machine_Learning_Task.ipynb",
   "provenance": []
  },
  "kernelspec": {
   "display_name": "Python 3",
   "language": "python",
   "name": "python3"
  },
  "language_info": {
   "codemirror_mode": {
    "name": "ipython",
    "version": 3
   },
   "file_extension": ".py",
   "mimetype": "text/x-python",
   "name": "python",
   "nbconvert_exporter": "python",
   "pygments_lexer": "ipython3",
   "version": "3.8.8"
  }
 },
 "nbformat": 4,
 "nbformat_minor": 1
}
